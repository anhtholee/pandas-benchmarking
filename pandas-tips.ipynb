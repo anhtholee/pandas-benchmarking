{
 "cells": [
  {
   "cell_type": "markdown",
   "metadata": {
    "id": "PlTUTlYczpgn"
   },
   "source": [
    "# `pandas` tips for efficient code"
   ]
  },
  {
   "cell_type": "code",
   "execution_count": 1,
   "metadata": {
    "colab": {
     "base_uri": "https://localhost:8080/"
    },
    "id": "bwAGlZuIcTKy",
    "outputId": "818551a8-b45a-480c-d341-f17baff0147a"
   },
   "outputs": [],
   "source": [
    "# !pip install line_profiler memory_profiler numba"
   ]
  },
  {
   "cell_type": "code",
   "execution_count": 1,
   "metadata": {
    "colab": {
     "base_uri": "https://localhost:8080/"
    },
    "id": "1xMFZGpyzgq0",
    "outputId": "a12a26c5-b9ea-4a45-fd75-037800af19e5",
    "tags": []
   },
   "outputs": [],
   "source": [
    "import warnings\n",
    "%reload_ext autoreload\n",
    "%autoreload 2\n",
    "import string\n",
    "import pandas as pd\n",
    "import numpy as np\n",
    "from matplotlib import pyplot as plt \n",
    "from matplotlib.ticker import StrMethodFormatter\n",
    "import seaborn as sns\n",
    "import timeit\n",
    "import gc\n",
    "from tqdm import tqdm\n",
    "import re\n",
    "from functools import reduce\n",
    "import numexpr\n",
    "from utils.parallel import parallel_df\n",
    "from utils.processing import find_str_df\n",
    "import numba as nb\n",
    "import multiprocessing as mp\n",
    "%load_ext line_profiler\n",
    "%load_ext memory_profiler\n",
    "%load_ext cython\n",
    "warnings.simplefilter(action='ignore', category=FutureWarning)\n"
   ]
  },
  {
   "cell_type": "code",
   "execution_count": 3,
   "metadata": {},
   "outputs": [
    {
     "name": "stdout",
     "output_type": "stream",
     "text": [
      "pandas version: 1.4.2\n",
      "numpy version: 1.20.3\n"
     ]
    }
   ],
   "source": [
    "print(f\"pandas version: {pd.__version__}\")\n",
    "print(f\"numpy version: {np.__version__}\")"
   ]
  },
  {
   "cell_type": "code",
   "execution_count": 4,
   "metadata": {
    "id": "LHozs6-VKNjT"
   },
   "outputs": [],
   "source": [
    "def perf_plot(perf_df: pd.DataFrame, title: str) -> None:\n",
    "    fig, ax = plt.subplots(figsize=(9, 6))\n",
    "    g = sns.lineplot(\n",
    "        data=pd.melt(perf_df, id_vars=['data_size'], var_name='method'),\n",
    "        x='data_size', \n",
    "        y='value', \n",
    "        hue='method',\n",
    "        ax=ax\n",
    "    )\n",
    "    g.set(yscale='log')\n",
    "    ax.set_title(title)\n",
    "    ax.set_xlabel(\"Data size\")\n",
    "    ax.set_ylabel(\"Execution time (log scale)\")\n",
    "    plt.gca().xaxis.set_major_formatter(StrMethodFormatter('{x:,.0f}')) # No decimal places\n",
    "    plt.show()"
   ]
  },
  {
   "cell_type": "markdown",
   "metadata": {
    "id": "koWGOUq4bfO7"
   },
   "source": [
    "## Useful magics/functions"
   ]
  },
  {
   "cell_type": "markdown",
   "metadata": {
    "id": "RdW2UgF5emN-"
   },
   "source": [
    "These magics are mainly used in profiling code in notebook\n",
    "- `time`\n",
    "- `timeit`\n",
    "- `prun`\n",
    "- `lprun`\n",
    "- `memit`"
   ]
  },
  {
   "cell_type": "code",
   "execution_count": 4,
   "metadata": {
    "id": "QyvitLCE4foU"
   },
   "outputs": [],
   "source": [
    "def fib(n):\n",
    "    \"\"\"Print the Fibonacci series up to n.\"\"\"\n",
    "    a, b = 0, 1\n",
    "    while b < n:\n",
    "        print(b, end=' ')\n",
    "        a, b = b, a + b\n",
    "\n",
    "    print()"
   ]
  },
  {
   "cell_type": "code",
   "execution_count": 5,
   "metadata": {
    "colab": {
     "base_uri": "https://localhost:8080/"
    },
    "id": "8Tn_JuPVBwoG",
    "outputId": "3f06ba9e-4075-4f15-fee5-b4e722073b39"
   },
   "outputs": [
    {
     "name": "stdout",
     "output_type": "stream",
     "text": [
      "1 1 2 3 5 8 13 21 34 55 89 144 233 377 610 987 1597 2584 4181 6765 10946 17711 28657 46368 75025 121393 196418 317811 514229 832040 \n",
      "1 1 2 3 5 8 13 21 34 55 89 144 233 377 610 987 1597 2584 4181 6765 10946 17711 28657 46368 75025 121393 196418 317811 514229 832040 \n",
      "1 1 2 3 5 8 13 21 34 55 89 144 233 377 610 987 1597 2584 4181 6765 10946 17711 28657 46368 75025 121393 196418 317811 514229 832040 \n",
      "1 1 2 3 5 8 13 21 34 55 89 144 233 377 610 987 1597 2584 4181 6765 10946 17711 28657 46368 75025 121393 196418 317811 514229 832040 \n",
      "1 1 2 3 5 8 13 21 34 55 89 144 233 377 610 987 1597 2584 4181 6765 10946 17711 28657 46368 75025 121393 196418 317811 514229 832040 \n",
      "1 1 2 3 5 8 13 21 34 55 89 144 233 377 610 987 1597 2584 4181 6765 10946 17711 28657 46368 75025 121393 196418 317811 514229 832040 \n",
      "1 1 2 3 5 8 13 21 34 55 89 144 233 377 610 987 1597 2584 4181 6765 10946 17711 28657 46368 75025 121393 196418 317811 514229 832040 \n",
      "1 1 2 3 5 8 13 21 34 55 89 144 233 377 610 987 1597 2584 4181 6765 10946 17711 28657 46368 75025 121393 196418 317811 514229 832040 \n",
      "1 1 2 3 5 8 13 21 34 55 89 144 233 377 610 987 1597 2584 4181 6765 10946 17711 28657 46368 75025 121393 196418 317811 514229 832040 \n",
      "1 1 2 3 5 8 13 21 34 55 89 144 233 377 610 987 1597 2584 4181 6765 10946 17711 28657 46368 75025 121393 196418 317811 514229 832040 \n"
     ]
    },
    {
     "data": {
      "text/plain": [
       "0.005695397000003766"
      ]
     },
     "execution_count": 5,
     "metadata": {},
     "output_type": "execute_result"
    }
   ],
   "source": [
    "timeit.timeit(lambda: fib(1e6), number=10)"
   ]
  },
  {
   "cell_type": "code",
   "execution_count": 6,
   "metadata": {
    "colab": {
     "base_uri": "https://localhost:8080/"
    },
    "id": "LkX6qgJWfWMX",
    "outputId": "fa98e481-85d5-4d21-96fe-ac5464ba14e0"
   },
   "outputs": [
    {
     "name": "stdout",
     "output_type": "stream",
     "text": [
      "1 1 2 3 5 8 13 21 34 55 89 144 233 377 610 987 1597 2584 4181 6765 10946 17711 28657 46368 75025 121393 196418 317811 514229 832040 \n",
      "CPU times: user 403 µs, sys: 81 µs, total: 484 µs\n",
      "Wall time: 482 µs\n"
     ]
    }
   ],
   "source": [
    "%time fib(1000000)"
   ]
  },
  {
   "cell_type": "code",
   "execution_count": 7,
   "metadata": {
    "colab": {
     "base_uri": "https://localhost:8080/"
    },
    "id": "td1W00pMnRJu",
    "outputId": "53e092c1-8da4-4a74-b8ae-b8f5e76c1ba9"
   },
   "outputs": [
    {
     "name": "stdout",
     "output_type": "stream",
     "text": [
      "1 1 2 3 5 8 13 21 34 55 89 144 233 377 610 987 1597 2584 4181 6765 10946 17711 28657 46368 75025 121393 196418 317811 514229 832040 \n",
      "1 1 2 3 5 8 13 21 34 55 89 144 233 377 610 987 1597 2584 4181 6765 10946 17711 28657 46368 75025 121393 196418 317811 514229 832040 \n",
      "674 µs ± 10 µs per loop (mean ± std. dev. of 2 runs, 1 loop each)\n"
     ]
    }
   ],
   "source": [
    "%timeit -r 2 -n 1 fib(1e6)"
   ]
  },
  {
   "cell_type": "code",
   "execution_count": null,
   "metadata": {
    "colab": {
     "base_uri": "https://localhost:8080/"
    },
    "id": "AL0jVLPipY0Z",
    "outputId": "f45bf8e1-a9ff-4254-bbc0-06fcc5befb3b"
   },
   "outputs": [
    {
     "name": "stdout",
     "output_type": "stream",
     "text": [
      "1 1 2 3 5 8 13 21 34 55 89 144 233 377 610 987 1597 2584 4181 6765 10946 17711 28657 46368 75025 121393 196418 317811 514229 832040 \n",
      "1 1 2 3 5 8 13 21 34 55 89 144 233 377 610 987 1597 2584 4181 6765 10946 17711 28657 46368 75025 121393 196418 317811 514229 832040 \n",
      "1 1 2 3 5 8 13 21 34 55 89 144 233 377 610 987 1597 2584 4181 6765 10946 17711 28657 46368 75025 121393 196418 317811 514229 832040 \n",
      "1 1 2 3 5 8 13 21 34 55 89 144 233 377 610 987 1597 2584 4181 6765 10946 17711 28657 46368 75025 121393 196418 317811 514229 832040 \n",
      "1 1 2 3 5 8 13 21 34 55 89 144 233 377 610 987 1597 2584 4181 6765 10946 17711 28657 46368 75025 121393 196418 317811 514229 832040 \n",
      "1 1 2 3 5 8 13 21 34 55 89 144 233 377 610 987 1597 2584 4181 6765 10946 17711 28657 46368 75025 121393 196418 317811 514229 832040 \n",
      "1 1 2 3 5 8 13 21 34 55 89 144 233 377 610 987 1597 2584 4181 6765 10946 17711 28657 46368 75025 121393 196418 317811 514229 832040 \n",
      "1 1 2 3 5 8 13 21 34 55 89 144 233 377 610 987 1597 2584 4181 6765 10946 17711 28657 46368 75025 121393 196418 317811 514229 832040 \n",
      "1 1 2 3 5 8 13 21 34 55 89 144 233 377 610 987 1597 2584 4181 6765 10946 17711 28657 46368 75025 121393 196418 317811 514229 832040 \n",
      "1 1 2 3 5 8 13 21 34 55 89 144 233 377 610 987 1597 2584 4181 6765 10946 17711 28657 46368 75025 121393 196418 317811 514229 832040 \n",
      "1 1 2 3 5 8 13 21 34 55 89 144 233 377 610 987 1597 2584 4181 6765 10946 17711 28657 46368 75025 121393 196418 317811 514229 832040 \n",
      "1 1 2 3 5 8 13 21 34 55 89 144 233 377 610 987 1597 2584 4181 6765 10946 17711 28657 46368 75025 121393 196418 317811 514229 832040 \n",
      "1 1 2 3 5 8 13 21 34 55 89 144 233 377 610 987 1597 2584 4181 6765 10946 17711 28657 46368 75025 121393 196418 317811 514229 832040 \n",
      "1 1 2 3 5 8 13 21 34 55 89 144 233 377 610 987 1597 2584 4181 6765 10946 17711 28657 46368 75025 121393 196418 317811 514229 832040 \n",
      "The slowest run took 13.49 times longer than the fastest. This could mean that an intermediate result is being cached.\n",
      "1.4 ms ± 1.69 ms per loop (mean ± std. dev. of 7 runs, 2 loops each)\n"
     ]
    }
   ],
   "source": [
    "%timeit -n 2 fib(1e6)"
   ]
  },
  {
   "cell_type": "code",
   "execution_count": 8,
   "metadata": {
    "colab": {
     "base_uri": "https://localhost:8080/"
    },
    "id": "kbK4lToNbuqD",
    "outputId": "0401df60-be8a-4716-861b-78cb17d5625e"
   },
   "outputs": [
    {
     "name": "stdout",
     "output_type": "stream",
     "text": [
      "1 1 2 3 5 8 13 21 34 55 89 144 233 377 610 987 1597 2584 4181 6765 10946 17711 28657 46368 75025 121393 196418 317811 514229 832040 \n",
      " "
     ]
    },
    {
     "data": {
      "text/plain": [
       "         897 function calls in 0.001 seconds\n",
       "\n",
       "   Ordered by: internal time\n",
       "\n",
       "   ncalls  tottime  percall  cumtime  percall filename:lineno(function)\n",
       "       62    0.000    0.000    0.000    0.000 socket.py:480(send)\n",
       "       61    0.000    0.000    0.001    0.000 iostream.py:502(write)\n",
       "       62    0.000    0.000    0.001    0.000 iostream.py:208(schedule)\n",
       "       62    0.000    0.000    0.000    0.000 threading.py:1071(is_alive)\n",
       "       31    0.000    0.000    0.001    0.000 {built-in method builtins.print}\n",
       "        1    0.000    0.000    0.001    0.001 {built-in method builtins.exec}\n",
       "       61    0.000    0.000    0.000    0.000 iostream.py:420(_is_master_process)\n",
       "       62    0.000    0.000    0.000    0.000 threading.py:1017(_wait_for_tstate_lock)\n",
       "       62    0.000    0.000    0.000    0.000 {method 'acquire' of '_thread.lock' objects}\n",
       "       62    0.000    0.000    0.000    0.000 iostream.py:97(_event_pipe)\n",
       "       61    0.000    0.000    0.000    0.000 iostream.py:439(_schedule_flush)\n",
       "        1    0.000    0.000    0.001    0.001 384788870.py:1(fib)\n",
       "       62    0.000    0.000    0.000    0.000 threading.py:513(is_set)\n",
       "       61    0.000    0.000    0.000    0.000 {built-in method posix.getpid}\n",
       "       61    0.000    0.000    0.000    0.000 {built-in method builtins.isinstance}\n",
       "       61    0.000    0.000    0.000    0.000 {built-in method builtins.len}\n",
       "       62    0.000    0.000    0.000    0.000 {method 'append' of 'collections.deque' objects}\n",
       "        1    0.000    0.000    0.001    0.001 <string>:1(<module>)\n",
       "        1    0.000    0.000    0.000    0.000 {method 'disable' of '_lsprof.Profiler' objects}"
      ]
     },
     "metadata": {},
     "output_type": "display_data"
    }
   ],
   "source": [
    "%prun fib(1e6)"
   ]
  },
  {
   "cell_type": "markdown",
   "metadata": {
    "id": "nfSSLlDSfCvY"
   },
   "source": [
    "`prun` components:\n",
    "- `ncalls`: The number of times the function was called.\n",
    "- `tottime`: The total time spent in the function (excluding calls to other functions).\n",
    "- `cumtime`: The time in the function (including other function calls).\n",
    "- `percall`: The time spent for a single call of the function--it can be obtained by dividing the total or cumulative time by the number of calls.\n",
    "- `filename:lineno`: The filename and corresponding line numbers. This information is not available when calling C extensions modules."
   ]
  },
  {
   "cell_type": "markdown",
   "metadata": {
    "id": "4nb8lB1KlndK"
   },
   "source": [
    "Usage of `lprun` (from the doc):\n",
    "```\n",
    "%lprun -f func1 -f func2 <statement>\n",
    "\n",
    "The given statement (which doesn't require quote marks) is run via the\n",
    "LineProfiler. Profiling is enabled for the functions specified by the -f\n",
    "options. The statistics will be shown side-by-side with the code through the\n",
    "pager once the statement has completed.\n",
    "\n",
    "Options:\n",
    "\n",
    "\n",
    "-f <function>: LineProfiler only profiles functions and methods it is told\n",
    "to profile.  This option tells the profiler about these functions. Multiple\n",
    "-f options may be used. The argument may be any expression that gives\n",
    "a Python function or method object. However, one must be careful to avoid\n",
    "spaces that may confuse the option parser.\n",
    "\n",
    "-m <module>: Get all the functions/methods in a module\n",
    "\n",
    "One or more -f or -m options are required to get any useful results.\n",
    "\n",
    "-D <filename>: dump the raw statistics out to a pickle file on disk. The\n",
    "usual extension for this is \".lprof\". These statistics may be viewed later\n",
    "by running line_profiler.py as a script.\n",
    "\n",
    "-T <filename>: dump the text-formatted statistics with the code side-by-side\n",
    "out to a text file.\n",
    "\n",
    "-r: return the LineProfiler object after it has completed profiling.\n",
    "\n",
    "-s: strip out all entries from the print-out that have zeros.\n",
    "```"
   ]
  },
  {
   "cell_type": "code",
   "execution_count": 11,
   "metadata": {
    "colab": {
     "base_uri": "https://localhost:8080/"
    },
    "id": "04srEw6LmhAe",
    "outputId": "7557c0fb-5667-4d09-c52c-8f013599e160"
   },
   "outputs": [
    {
     "name": "stderr",
     "output_type": "stream",
     "text": [
      "UsageError: Line magic function `%lprun` not found.\n"
     ]
    }
   ],
   "source": [
    "%lprun -f fib fib(1e6)"
   ]
  },
  {
   "cell_type": "markdown",
   "metadata": {
    "id": "_LKvWMqcm8H_"
   },
   "source": [
    "`lprun` components:\n",
    "- Line #: The number of the line that was run\n",
    "- Hits: The number of times that line was run\n",
    "- Time: The execution time of the line in microseconds (Time)\n",
    "- Per Hit: Time/hits\n",
    "- % Time: Fraction of the total time spent executing that line\n",
    "- Line Contents: The content of the line"
   ]
  },
  {
   "cell_type": "code",
   "execution_count": null,
   "metadata": {
    "colab": {
     "base_uri": "https://localhost:8080/"
    },
    "id": "QA6fk_45vHEl",
    "outputId": "eda357fa-6776-4bca-96e7-1f55b4fd3e77"
   },
   "outputs": [
    {
     "name": "stdout",
     "output_type": "stream",
     "text": [
      "1 1 2 3 5 8 13 21 34 55 89 144 233 377 610 987 1597 2584 4181 6765 10946 17711 28657 46368 75025 121393 196418 317811 514229 832040 \n",
      "1 1 2 3 5 8 13 21 34 55 89 144 233 377 610 987 1597 2584 4181 6765 10946 17711 28657 46368 75025 121393 196418 317811 514229 832040 \n",
      "1 1 2 3 5 8 13 21 34 55 89 144 233 377 610 987 1597 2584 4181 6765 10946 17711 28657 46368 75025 121393 196418 317811 514229 832040 \n",
      "1 1 2 3 5 8 13 21 34 55 89 144 233 377 610 987 1597 2584 4181 6765 10946 17711 28657 46368 75025 121393 196418 317811 514229 832040 \n",
      "1 1 2 3 5 8 13 21 34 55 89 144 233 377 610 987 1597 2584 4181 6765 10946 17711 28657 46368 75025 121393 196418 317811 514229 832040 \n",
      "1 1 2 3 5 8 13 21 34 55 89 144 233 377 610 987 1597 2584 4181 6765 10946 17711 28657 46368 75025 121393 196418 317811 514229 832040 \n",
      "peak memory: 489.30 MiB, increment: 0.02 MiB\n"
     ]
    }
   ],
   "source": [
    "%memit fib(1e6)"
   ]
  },
  {
   "cell_type": "markdown",
   "metadata": {
    "id": "SEt2iybkvoM1"
   },
   "source": [
    "`memit` components:\n",
    "- `peak memory`: The peak memory usage of the system (including memory usage of other processes) during the program runtime.\n",
    "\n",
    "- `increment`: is the increment in memory usage relative to the memory usage just before the program is run (i.e. increment = peak memory - starting memory)."
   ]
  },
  {
   "cell_type": "markdown",
   "metadata": {
    "id": "KQjrEkZT93J0"
   },
   "source": [
    "## `pandas` tips"
   ]
  },
  {
   "cell_type": "markdown",
   "metadata": {
    "id": "pNcFNkdmCfur"
   },
   "source": [
    "### Looping through elements"
   ]
  },
  {
   "cell_type": "markdown",
   "metadata": {
    "id": "XcScLvse6YtO"
   },
   "source": [
    "We have several common methods for looping through a pandas dataframe\n",
    "- `iterrows`\n",
    "- `itertuples`\n",
    "- normal loop"
   ]
  },
  {
   "cell_type": "code",
   "execution_count": 174,
   "metadata": {
    "id": "THY-64HKCdyo"
   },
   "outputs": [],
   "source": [
    "def iterrows_loop(df):\n",
    "    for i, r in df.iterrows():\n",
    "        pass\n",
    "\n",
    "def itertuples_loop(df):\n",
    "    for r in df.itertuples():\n",
    "        pass\n",
    "\n",
    "def py_loop(df):\n",
    "    for a, b in zip(df['a'], df['b']):\n",
    "        pass"
   ]
  },
  {
   "cell_type": "code",
   "execution_count": 175,
   "metadata": {
    "colab": {
     "base_uri": "https://localhost:8080/"
    },
    "id": "qeIUID0I9rer",
    "outputId": "45ff15da-dae1-403d-8fe3-5d18f6073a5b"
   },
   "outputs": [
    {
     "name": "stderr",
     "output_type": "stream",
     "text": [
      "100%|██████████| 6/6 [05:51<00:00, 58.61s/it] "
     ]
    },
    {
     "name": "stdout",
     "output_type": "stream",
     "text": [
      "CPU times: user 5min 35s, sys: 4.95 s, total: 5min 40s\n",
      "Wall time: 5min 51s\n"
     ]
    },
    {
     "name": "stderr",
     "output_type": "stream",
     "text": [
      "\n"
     ]
    }
   ],
   "source": [
    "%%time\n",
    "perf_df1 = pd.DataFrame()\n",
    "for n in tqdm([10 ** i for i in range(2,8)]):\n",
    "    df = pd.DataFrame({\n",
    "        'a': np.random.randint(low=0,high=1e6, size=n),\n",
    "        'b': np.random.random(size=n)   ,\n",
    "        'c': np.random.choice([f'cat_{i}' for i in range(1000)], size=n)\n",
    "    })\n",
    "    perf_df1 = perf_df1.append({\n",
    "        \"data_size\": n,\n",
    "        \"iterrows\": timeit.timeit(lambda: iterrows_loop(df), number=1),\n",
    "        \"itertuples\": timeit.timeit(lambda: itertuples_loop(df), number=1),\n",
    "        \"normal loop\": timeit.timeit(lambda: py_loop(df), number=1),\n",
    "    }, ignore_index=True)\n",
    "    del df\n",
    "    gc.collect()"
   ]
  },
  {
   "cell_type": "code",
   "execution_count": 176,
   "metadata": {},
   "outputs": [
    {
     "data": {
      "text/html": [
       "<div>\n",
       "<style scoped>\n",
       "    .dataframe tbody tr th:only-of-type {\n",
       "        vertical-align: middle;\n",
       "    }\n",
       "\n",
       "    .dataframe tbody tr th {\n",
       "        vertical-align: top;\n",
       "    }\n",
       "\n",
       "    .dataframe thead th {\n",
       "        text-align: right;\n",
       "    }\n",
       "</style>\n",
       "<table border=\"1\" class=\"dataframe\">\n",
       "  <thead>\n",
       "    <tr style=\"text-align: right;\">\n",
       "      <th></th>\n",
       "      <th>data_size</th>\n",
       "      <th>iterrows</th>\n",
       "      <th>itertuples</th>\n",
       "      <th>normal loop</th>\n",
       "    </tr>\n",
       "  </thead>\n",
       "  <tbody>\n",
       "    <tr>\n",
       "      <th>0</th>\n",
       "      <td>100.0</td>\n",
       "      <td>0.002900</td>\n",
       "      <td>0.000465</td>\n",
       "      <td>0.000185</td>\n",
       "    </tr>\n",
       "    <tr>\n",
       "      <th>1</th>\n",
       "      <td>1000.0</td>\n",
       "      <td>0.036635</td>\n",
       "      <td>0.001064</td>\n",
       "      <td>0.000428</td>\n",
       "    </tr>\n",
       "    <tr>\n",
       "      <th>2</th>\n",
       "      <td>10000.0</td>\n",
       "      <td>0.328415</td>\n",
       "      <td>0.005889</td>\n",
       "      <td>0.001669</td>\n",
       "    </tr>\n",
       "    <tr>\n",
       "      <th>3</th>\n",
       "      <td>100000.0</td>\n",
       "      <td>2.971776</td>\n",
       "      <td>0.051108</td>\n",
       "      <td>0.014637</td>\n",
       "    </tr>\n",
       "    <tr>\n",
       "      <th>4</th>\n",
       "      <td>1000000.0</td>\n",
       "      <td>27.218675</td>\n",
       "      <td>0.509501</td>\n",
       "      <td>0.138127</td>\n",
       "    </tr>\n",
       "    <tr>\n",
       "      <th>5</th>\n",
       "      <td>10000000.0</td>\n",
       "      <td>301.438091</td>\n",
       "      <td>9.832086</td>\n",
       "      <td>4.671988</td>\n",
       "    </tr>\n",
       "  </tbody>\n",
       "</table>\n",
       "</div>"
      ],
      "text/plain": [
       "    data_size    iterrows  itertuples  normal loop\n",
       "0       100.0    0.002900    0.000465     0.000185\n",
       "1      1000.0    0.036635    0.001064     0.000428\n",
       "2     10000.0    0.328415    0.005889     0.001669\n",
       "3    100000.0    2.971776    0.051108     0.014637\n",
       "4   1000000.0   27.218675    0.509501     0.138127\n",
       "5  10000000.0  301.438091    9.832086     4.671988"
      ]
     },
     "execution_count": 176,
     "metadata": {},
     "output_type": "execute_result"
    }
   ],
   "source": [
    "perf_df1"
   ]
  },
  {
   "cell_type": "code",
   "execution_count": 177,
   "metadata": {
    "id": "vEx1zf0T7U5Z"
   },
   "outputs": [
    {
     "data": {
      "image/png": "[encoded data removed]",
      "text/plain": [
       "<Figure size 648x432 with 1 Axes>"
      ]
     },
     "metadata": {
      "needs_background": "light"
     },
     "output_type": "display_data"
    }
   ],
   "source": [
    "perf_plot(perf_df1, \"Execution time between different for loop methods\")"
   ]
  },
  {
   "cell_type": "markdown",
   "metadata": {
    "id": "r30n4Y1hsiiQ"
   },
   "source": [
    "Some takeaway points:\n",
    "- Avoid pure for loop in pandas DataFrame as much as possible (except for string manipulation, will be explained in a later section)\n",
    "- If you have to do for loops, avoid `iterrows`"
   ]
  },
  {
   "cell_type": "markdown",
   "metadata": {
    "id": "zFxSJRbZsKNK"
   },
   "source": [
    "### New column assignment"
   ]
  },
  {
   "cell_type": "markdown",
   "metadata": {
    "id": "Uywcx3M-Rdx0"
   },
   "source": [
    "How do we assign new column with values based on the other columns?"
   ]
  },
  {
   "cell_type": "code",
   "execution_count": 179,
   "metadata": {
    "colab": {
     "base_uri": "https://localhost:8080/",
     "height": 35
    },
    "id": "3TXbr4e_7T3O",
    "outputId": "2a73d55e-8660-478b-cc34-8d3eaae8cc46"
   },
   "outputs": [
    {
     "data": {
      "text/html": [
       "<div>\n",
       "<style scoped>\n",
       "    .dataframe tbody tr th:only-of-type {\n",
       "        vertical-align: middle;\n",
       "    }\n",
       "\n",
       "    .dataframe tbody tr th {\n",
       "        vertical-align: top;\n",
       "    }\n",
       "\n",
       "    .dataframe thead th {\n",
       "        text-align: right;\n",
       "    }\n",
       "</style>\n",
       "<table border=\"1\" class=\"dataframe\">\n",
       "  <thead>\n",
       "    <tr style=\"text-align: right;\">\n",
       "      <th></th>\n",
       "      <th>a</th>\n",
       "      <th>b</th>\n",
       "    </tr>\n",
       "  </thead>\n",
       "  <tbody>\n",
       "    <tr>\n",
       "      <th>0</th>\n",
       "      <td>24185</td>\n",
       "      <td>0.259541</td>\n",
       "    </tr>\n",
       "    <tr>\n",
       "      <th>1</th>\n",
       "      <td>720036</td>\n",
       "      <td>0.580610</td>\n",
       "    </tr>\n",
       "    <tr>\n",
       "      <th>2</th>\n",
       "      <td>240883</td>\n",
       "      <td>0.094089</td>\n",
       "    </tr>\n",
       "    <tr>\n",
       "      <th>3</th>\n",
       "      <td>641484</td>\n",
       "      <td>0.480012</td>\n",
       "    </tr>\n",
       "    <tr>\n",
       "      <th>4</th>\n",
       "      <td>572773</td>\n",
       "      <td>0.083028</td>\n",
       "    </tr>\n",
       "  </tbody>\n",
       "</table>\n",
       "</div>"
      ],
      "text/plain": [
       "        a         b\n",
       "0   24185  0.259541\n",
       "1  720036  0.580610\n",
       "2  240883  0.094089\n",
       "3  641484  0.480012\n",
       "4  572773  0.083028"
      ]
     },
     "execution_count": 179,
     "metadata": {},
     "output_type": "execute_result"
    }
   ],
   "source": [
    "df = pd.DataFrame({\n",
    "    'a': np.random.randint(low=0,high=1e6, size=10**6),\n",
    "    'b': np.random.random(size=10**6),\n",
    "    # 'c': np.random.choice([f'cat_{i}' for i in range(1000)], size=n)\n",
    "  })\n",
    "df.head()"
   ]
  },
  {
   "cell_type": "markdown",
   "metadata": {},
   "source": [
    "Let's say we want to derive a new column `c` from `a` and `b`, and the condition is: \n",
    "- If `a * b < 100 and a > 100 and b < 0.5` then `c` is `passed`\n",
    "- Otherwise `c` is `not passed`"
   ]
  },
  {
   "cell_type": "markdown",
   "metadata": {},
   "source": [
    "We have can do this in several ways:\n",
    "- `apply`\n",
    "- `loc`\n",
    "- `np.where`\n",
    "- Python loop"
   ]
  },
  {
   "cell_type": "code",
   "execution_count": 8,
   "metadata": {
    "id": "yXuLDjmCIm4R"
   },
   "outputs": [],
   "source": [
    "def calculate_c(a,b):\n",
    "    if a * b < 100 and a > 100 and b < 0.5:\n",
    "        return 'passed'\n",
    "    else:\n",
    "        return 'not passed'\n",
    "        \n",
    "def apply_c(df, raw=False):\n",
    "    df['c'] = df.apply(lambda row: calculate_c(row['a'], row['b']), axis=1, raw=raw)\n",
    "    return df\n",
    "\n",
    "def npvectorise_c(df):\n",
    "    df['c'] = np.vectorize(calculate_c)(df['a'], df['b'])\n",
    "    return df\n",
    "\n",
    "def loc_c(df):\n",
    "    df['c'] = 'not passed'\n",
    "    df.loc[\n",
    "        ((df['a'] * df['b'] > 0) & (df['a'] > 100) & (df['b'] < 0.5)),\n",
    "        'c'\n",
    "    ] = 'passed'\n",
    "    return df\n",
    "\n",
    "def npwhere_c(df):\n",
    "    df['c'] = np.where(\n",
    "        ((df['a'] * df['b'] > 0) & (df['a'] > 100) & (df['b'] < 0.5)),\n",
    "        'passed',\n",
    "        'not passed'\n",
    "    )\n",
    "    return df\n",
    "\n",
    "def npwhere_val_c(df):\n",
    "    df['c'] = np.where(\n",
    "        (\n",
    "            (df['a'].to_numpy() * df['b'].to_numpy() > 0) &\n",
    "            (df['a'].to_numpy() > 100) & (df['b'].to_numpy() < 0.5)\n",
    "        ),\n",
    "        'passed',\n",
    "        'not passed'\n",
    "    )\n",
    "    return df\n",
    "\n",
    "def loop_c(df):\n",
    "    df['c'] = [calculate_c(a, b) for a,b in zip(df['a'], df['b'])]\n",
    "    return df"
   ]
  },
  {
   "cell_type": "code",
   "execution_count": 9,
   "metadata": {},
   "outputs": [
    {
     "name": "stderr",
     "output_type": "stream",
     "text": [
      "100%|██████████| 6/6 [02:11<00:00, 21.91s/it]"
     ]
    },
    {
     "name": "stdout",
     "output_type": "stream",
     "text": [
      "CPU times: user 2min 4s, sys: 3.85 s, total: 2min 8s\n",
      "Wall time: 2min 11s\n"
     ]
    },
    {
     "name": "stderr",
     "output_type": "stream",
     "text": [
      "\n"
     ]
    }
   ],
   "source": [
    "%%time\n",
    "perf_df2 = pd.DataFrame()\n",
    "for n in tqdm([10 ** i for i in range(2,8)]):\n",
    "    df = pd.DataFrame({\n",
    "        'a': np.random.randint(low=0, high=1e6, size=n),\n",
    "        'b': np.random.random(size=n),\n",
    "        # 'c': np.random.choice([f'cat_{i}' for i in range(1000)], size=n)\n",
    "    })\n",
    "    perf_df2 = perf_df2.append({\n",
    "        \"data_size\": n,\n",
    "        \"apply\": timeit.timeit(lambda: apply_c(df), number=1),\n",
    "        \"np.vectorize\": timeit.timeit(lambda: npvectorise_c(df), number=1),\n",
    "        \"loc\": timeit.timeit(lambda: loc_c(df), number=1),\n",
    "        \"np.where (with pandas series)\": timeit.timeit(lambda: npwhere_c(df), number=1),\n",
    "        \"np.where (with numpy array)\": timeit.timeit(lambda: npwhere_val_c(df), number=1),\n",
    "        \"loop\": timeit.timeit(lambda: loop_c(df), number=1),\n",
    "    }, ignore_index=True)\n",
    "    del df\n",
    "    gc.collect()"
   ]
  },
  {
   "cell_type": "code",
   "execution_count": 10,
   "metadata": {},
   "outputs": [
    {
     "data": {
      "text/html": [
       "<div>\n",
       "<style scoped>\n",
       "    .dataframe tbody tr th:only-of-type {\n",
       "        vertical-align: middle;\n",
       "    }\n",
       "\n",
       "    .dataframe tbody tr th {\n",
       "        vertical-align: top;\n",
       "    }\n",
       "\n",
       "    .dataframe thead th {\n",
       "        text-align: right;\n",
       "    }\n",
       "</style>\n",
       "<table border=\"1\" class=\"dataframe\">\n",
       "  <thead>\n",
       "    <tr style=\"text-align: right;\">\n",
       "      <th></th>\n",
       "      <th>apply</th>\n",
       "      <th>data_size</th>\n",
       "      <th>loc</th>\n",
       "      <th>loop</th>\n",
       "      <th>np.vectorize</th>\n",
       "      <th>np.where (with numpy array)</th>\n",
       "      <th>np.where (with pandas series)</th>\n",
       "    </tr>\n",
       "  </thead>\n",
       "  <tbody>\n",
       "    <tr>\n",
       "      <th>0</th>\n",
       "      <td>0.015944</td>\n",
       "      <td>100.0</td>\n",
       "      <td>0.007997</td>\n",
       "      <td>0.000603</td>\n",
       "      <td>0.001480</td>\n",
       "      <td>0.000359</td>\n",
       "      <td>0.002086</td>\n",
       "    </tr>\n",
       "    <tr>\n",
       "      <th>1</th>\n",
       "      <td>0.020614</td>\n",
       "      <td>1000.0</td>\n",
       "      <td>0.001726</td>\n",
       "      <td>0.000900</td>\n",
       "      <td>0.001361</td>\n",
       "      <td>0.001035</td>\n",
       "      <td>0.002806</td>\n",
       "    </tr>\n",
       "    <tr>\n",
       "      <th>2</th>\n",
       "      <td>0.108195</td>\n",
       "      <td>10000.0</td>\n",
       "      <td>0.002728</td>\n",
       "      <td>0.003585</td>\n",
       "      <td>0.004535</td>\n",
       "      <td>0.001194</td>\n",
       "      <td>0.002182</td>\n",
       "    </tr>\n",
       "    <tr>\n",
       "      <th>3</th>\n",
       "      <td>1.165074</td>\n",
       "      <td>100000.0</td>\n",
       "      <td>0.011389</td>\n",
       "      <td>0.037258</td>\n",
       "      <td>0.044648</td>\n",
       "      <td>0.011469</td>\n",
       "      <td>0.014349</td>\n",
       "    </tr>\n",
       "    <tr>\n",
       "      <th>4</th>\n",
       "      <td>11.381313</td>\n",
       "      <td>1000000.0</td>\n",
       "      <td>0.060553</td>\n",
       "      <td>0.392866</td>\n",
       "      <td>0.358655</td>\n",
       "      <td>0.106513</td>\n",
       "      <td>0.093435</td>\n",
       "    </tr>\n",
       "    <tr>\n",
       "      <th>5</th>\n",
       "      <td>106.148121</td>\n",
       "      <td>10000000.0</td>\n",
       "      <td>0.898073</td>\n",
       "      <td>3.745391</td>\n",
       "      <td>3.705193</td>\n",
       "      <td>1.143533</td>\n",
       "      <td>0.848027</td>\n",
       "    </tr>\n",
       "  </tbody>\n",
       "</table>\n",
       "</div>"
      ],
      "text/plain": [
       "        apply   data_size       loc      loop  np.vectorize  \\\n",
       "0    0.015944       100.0  0.007997  0.000603      0.001480   \n",
       "1    0.020614      1000.0  0.001726  0.000900      0.001361   \n",
       "2    0.108195     10000.0  0.002728  0.003585      0.004535   \n",
       "3    1.165074    100000.0  0.011389  0.037258      0.044648   \n",
       "4   11.381313   1000000.0  0.060553  0.392866      0.358655   \n",
       "5  106.148121  10000000.0  0.898073  3.745391      3.705193   \n",
       "\n",
       "   np.where (with numpy array)  np.where (with pandas series)  \n",
       "0                     0.000359                       0.002086  \n",
       "1                     0.001035                       0.002806  \n",
       "2                     0.001194                       0.002182  \n",
       "3                     0.011469                       0.014349  \n",
       "4                     0.106513                       0.093435  \n",
       "5                     1.143533                       0.848027  "
      ]
     },
     "execution_count": 10,
     "metadata": {},
     "output_type": "execute_result"
    }
   ],
   "source": [
    "perf_df2"
   ]
  },
  {
   "cell_type": "code",
   "execution_count": 17,
   "metadata": {},
   "outputs": [
    {
     "data": {
      "image/png": "[encoded data removed]",
      "text/plain": [
       "<Figure size 648x432 with 1 Axes>"
      ]
     },
     "metadata": {
      "needs_background": "light"
     },
     "output_type": "display_data"
    }
   ],
   "source": [
    "perf_plot(perf_df2, \"Execution time between different column assignment methods\")"
   ]
  },
  {
   "cell_type": "markdown",
   "metadata": {},
   "source": [
    "Some takeaways:\n",
    "- Pythonic looping is more efficient compared to `apply`, as there are more overhead in the method `apply` itself.\n",
    "- `np.vectorize` has almost identical performance as the tuple-based python loop. As discussed in [this SO question](https://stackoverflow.com/questions/52673285/performance-of-pandas-apply-vs-np-vectorize-to-create-new-column-from-existing-c), that is not true vectorisation. It is also stated in the `numpy` doc.\n",
    "\n",
    "> Define a vectorized function which takes a nested sequence of objects or numpy arrays as inputs and returns an single or tuple of numpy array as output. The vectorized function evaluates pyfunc over successive tuples of the input arrays like the python map function, except it uses the broadcasting rules of numpy.\n",
    "\n",
    "> The vectorize function is provided primarily for convenience, not for performance. The implementation is essentially a for loop.\n",
    "- Use `pandas`/`numpy` built-in vectorised methods wherever possible, as they are generally more efficient for numerical computation.\n",
    "- Using `np.where` with `numpy` arrays is a little more efficient than with `pandas` series"
   ]
  },
  {
   "cell_type": "markdown",
   "metadata": {},
   "source": [
    "### Groupby and apply/transform"
   ]
  },
  {
   "cell_type": "markdown",
   "metadata": {},
   "source": [
    "Let's take a look at a common use case: Normalisation by group. Example is inspired by this [notebook](https://nbviewer.org/github/jreback/pydata2015-london/blob/master/notebooks/idioms.ipynb)"
   ]
  },
  {
   "cell_type": "code",
   "execution_count": 180,
   "metadata": {},
   "outputs": [],
   "source": [
    "df = pd.DataFrame({\n",
    "    'cat': np.random.choice([f'cat_{i}' for i in range(1000)], size=10**6),\n",
    "    'a': np.random.randint(low=0, high=1e6, size=10**6),\n",
    "})"
   ]
  },
  {
   "cell_type": "markdown",
   "metadata": {},
   "source": [
    "Suppose we have a dataframe with 2 columns"
   ]
  },
  {
   "cell_type": "code",
   "execution_count": 182,
   "metadata": {},
   "outputs": [
    {
     "name": "stdout",
     "output_type": "stream",
     "text": [
      "       cat       a\n",
      "0  cat_198  955548\n",
      "1  cat_727  975060\n",
      "2  cat_899  883192\n",
      "3  cat_637  236576\n",
      "4  cat_440  726605\n"
     ]
    }
   ],
   "source": [
    "print(df.head())"
   ]
  },
  {
   "cell_type": "markdown",
   "metadata": {},
   "source": [
    "We would like to normalise the values of `a` by each `cat` and assign the new values to the column `a_normalised`. Let us use min-max scaling."
   ]
  },
  {
   "cell_type": "markdown",
   "metadata": {},
   "source": [
    "We compare 3 methods:\n",
    "- Method 1: groupby + apply\n",
    "- Method 2: groupby + map\n",
    "- Method 3: groupby + transform"
   ]
  },
  {
   "cell_type": "code",
   "execution_count": 111,
   "metadata": {},
   "outputs": [],
   "source": [
    "def groupby_apply_normalise(df):\n",
    "    df['a_normalised'] = df.groupby('cat')['a'].apply(\n",
    "        lambda x: (x - np.min(x)) / (np.max(x) - np.min(x)), \n",
    "    )\n",
    "    return df\n",
    "\n",
    "def groupby_map_normalise(df):\n",
    "    grouped = df.groupby('cat').agg(\n",
    "        a_min=('a', 'min'),\n",
    "        a_max=('a', 'max')\n",
    "    )\n",
    "    min_val = df['cat'].map(grouped['a_min'])\n",
    "    max_val = df['cat'].map(grouped['a_max'])\n",
    "    df['a_normalised'] = (df['a'] - min_val) / (max_val - min_val)\n",
    "    return df\n",
    "\n",
    "def unwrap_normalise(df):\n",
    "    g = df.groupby('cat')['a']\n",
    "    v = df['a']\n",
    "    df['a_normalised'] = (v - g.transform('min')) / (g.transform('max') - g.transform('min'))\n",
    "    return df"
   ]
  },
  {
   "cell_type": "code",
   "execution_count": 44,
   "metadata": {},
   "outputs": [
    {
     "name": "stderr",
     "output_type": "stream",
     "text": [
      "100%|██████████| 6/6 [00:11<00:00,  1.90s/it]"
     ]
    },
    {
     "name": "stdout",
     "output_type": "stream",
     "text": [
      "CPU times: user 9.82 s, sys: 1.44 s, total: 11.3 s\n",
      "Wall time: 11.4 s\n"
     ]
    },
    {
     "name": "stderr",
     "output_type": "stream",
     "text": [
      "\n"
     ]
    }
   ],
   "source": [
    "%%time\n",
    "perf_df3 = pd.DataFrame()\n",
    "for n in tqdm([10 ** i for i in range(2, 8)]):\n",
    "    df = pd.DataFrame({\n",
    "        'cat': np.random.choice([f'cat_{i}' for i in range(1000)], size=n),\n",
    "        'a': np.random.randint(low=0, high=1e6, size=n),\n",
    "    })\n",
    "    perf_df3 = perf_df3.append({\n",
    "        \"data_size\": n,\n",
    "        \"groupby+apply\": timeit.timeit(lambda: groupby_apply_normalise(df), number=1),\n",
    "        \"groupby+map\": timeit.timeit(lambda: groupby_map_normalise(df), number=1),\n",
    "        \"groupby+transform\": timeit.timeit(lambda: unwrap_normalise(df), number=1),\n",
    "    }, ignore_index=True)\n",
    "    del df\n",
    "    gc.collect()"
   ]
  },
  {
   "cell_type": "code",
   "execution_count": 45,
   "metadata": {},
   "outputs": [
    {
     "data": {
      "text/html": [
       "<div>\n",
       "<style scoped>\n",
       "    .dataframe tbody tr th:only-of-type {\n",
       "        vertical-align: middle;\n",
       "    }\n",
       "\n",
       "    .dataframe tbody tr th {\n",
       "        vertical-align: top;\n",
       "    }\n",
       "\n",
       "    .dataframe thead th {\n",
       "        text-align: right;\n",
       "    }\n",
       "</style>\n",
       "<table border=\"1\" class=\"dataframe\">\n",
       "  <thead>\n",
       "    <tr style=\"text-align: right;\">\n",
       "      <th></th>\n",
       "      <th>data_size</th>\n",
       "      <th>groupby+apply</th>\n",
       "      <th>groupby+map</th>\n",
       "      <th>groupby+transform</th>\n",
       "    </tr>\n",
       "  </thead>\n",
       "  <tbody>\n",
       "    <tr>\n",
       "      <th>0</th>\n",
       "      <td>100.0</td>\n",
       "      <td>0.062210</td>\n",
       "      <td>0.007735</td>\n",
       "      <td>0.001741</td>\n",
       "    </tr>\n",
       "    <tr>\n",
       "      <th>1</th>\n",
       "      <td>1000.0</td>\n",
       "      <td>0.291659</td>\n",
       "      <td>0.007940</td>\n",
       "      <td>0.002664</td>\n",
       "    </tr>\n",
       "    <tr>\n",
       "      <th>2</th>\n",
       "      <td>10000.0</td>\n",
       "      <td>0.359748</td>\n",
       "      <td>0.009703</td>\n",
       "      <td>0.002623</td>\n",
       "    </tr>\n",
       "    <tr>\n",
       "      <th>3</th>\n",
       "      <td>100000.0</td>\n",
       "      <td>0.411211</td>\n",
       "      <td>0.049122</td>\n",
       "      <td>0.019380</td>\n",
       "    </tr>\n",
       "    <tr>\n",
       "      <th>4</th>\n",
       "      <td>1000000.0</td>\n",
       "      <td>0.597881</td>\n",
       "      <td>0.256944</td>\n",
       "      <td>0.089526</td>\n",
       "    </tr>\n",
       "    <tr>\n",
       "      <th>5</th>\n",
       "      <td>10000000.0</td>\n",
       "      <td>3.897847</td>\n",
       "      <td>2.371396</td>\n",
       "      <td>0.767930</td>\n",
       "    </tr>\n",
       "  </tbody>\n",
       "</table>\n",
       "</div>"
      ],
      "text/plain": [
       "    data_size  groupby+apply  groupby+map  groupby+transform\n",
       "0       100.0       0.062210     0.007735           0.001741\n",
       "1      1000.0       0.291659     0.007940           0.002664\n",
       "2     10000.0       0.359748     0.009703           0.002623\n",
       "3    100000.0       0.411211     0.049122           0.019380\n",
       "4   1000000.0       0.597881     0.256944           0.089526\n",
       "5  10000000.0       3.897847     2.371396           0.767930"
      ]
     },
     "execution_count": 45,
     "metadata": {},
     "output_type": "execute_result"
    }
   ],
   "source": [
    "perf_df3"
   ]
  },
  {
   "cell_type": "code",
   "execution_count": 26,
   "metadata": {},
   "outputs": [
    {
     "data": {
      "image/png": "[encoded data removed]",
      "text/plain": [
       "<Figure size 648x432 with 1 Axes>"
      ]
     },
     "metadata": {
      "needs_background": "light"
     },
     "output_type": "display_data"
    }
   ],
   "source": [
    "perf_plot(perf_df3, \"Execution time - group normalisation\")"
   ]
  },
  {
   "cell_type": "markdown",
   "metadata": {},
   "source": [
    "Sometimes we take the 99th quantile instead of the max value to prevent data skewness. Let us see how the above 3 perform"
   ]
  },
  {
   "cell_type": "code",
   "execution_count": 46,
   "metadata": {},
   "outputs": [],
   "source": [
    "def groupby_apply_normalise99(df):\n",
    "    df['a_normalised'] = df.groupby('cat')['a'].apply(\n",
    "        lambda x: (x - np.min(x)) / (np.quantile(x, 0.99) - np.min(x))\n",
    "    )\n",
    "    return df\n",
    "\n",
    "\n",
    "def groupby_map_normalise99(df):\n",
    "    grouped = df.groupby('cat').agg(\n",
    "        a_min=('a', 'min'),\n",
    "        a_max=('a', lambda x: np.quantile(x, .99))\n",
    "    )\n",
    "    min_val = df['cat'].map(grouped['a_min'])\n",
    "    max_val = df['cat'].map(grouped['a_max'])\n",
    "    df['a_normalised'] = (df['a'] - min_val) / (max_val - min_val)\n",
    "    return df\n",
    "\n",
    "\n",
    "def unwrap_normalise99(df):\n",
    "    g = df.groupby('cat')['a']\n",
    "    v = df['a']\n",
    "    df['a_normalised'] = (v - g.transform('min')) / \\\n",
    "        (g.transform(lambda x: np.quantile(x, .99)) - g.transform('min'))\n",
    "    return df\n"
   ]
  },
  {
   "cell_type": "code",
   "execution_count": 47,
   "metadata": {},
   "outputs": [
    {
     "name": "stderr",
     "output_type": "stream",
     "text": [
      "100%|██████████| 6/6 [00:17<00:00,  2.98s/it]"
     ]
    },
    {
     "name": "stdout",
     "output_type": "stream",
     "text": [
      "CPU times: user 15.5 s, sys: 1.71 s, total: 17.2 s\n",
      "Wall time: 17.9 s\n"
     ]
    },
    {
     "name": "stderr",
     "output_type": "stream",
     "text": [
      "\n"
     ]
    }
   ],
   "source": [
    "%%time\n",
    "perf_df4 = pd.DataFrame()\n",
    "for n in tqdm([10 ** i for i in range(2, 8)]):\n",
    "    df = pd.DataFrame({\n",
    "        'cat': np.random.choice([f'cat_{i}' for i in range(1000)], size=n),\n",
    "        'a': np.random.randint(low=0, high=1e6, size=n),\n",
    "    })\n",
    "    perf_df4 = perf_df4.append({\n",
    "        \"data_size\": n,\n",
    "        \"groupby+apply (99th quantile)\": timeit.timeit(lambda: groupby_apply_normalise99(df), number=1),\n",
    "        \"groupby+map (99th quantile)\": timeit.timeit(lambda: groupby_map_normalise99(df), number=1),\n",
    "        \"groupby+transform (99th quantile)\": timeit.timeit(lambda: unwrap_normalise99(df), number=1),\n",
    "    }, ignore_index=True)\n",
    "    del df\n",
    "    gc.collect()"
   ]
  },
  {
   "cell_type": "code",
   "execution_count": 48,
   "metadata": {},
   "outputs": [
    {
     "data": {
      "text/html": [
       "<div>\n",
       "<style scoped>\n",
       "    .dataframe tbody tr th:only-of-type {\n",
       "        vertical-align: middle;\n",
       "    }\n",
       "\n",
       "    .dataframe tbody tr th {\n",
       "        vertical-align: top;\n",
       "    }\n",
       "\n",
       "    .dataframe thead th {\n",
       "        text-align: right;\n",
       "    }\n",
       "</style>\n",
       "<table border=\"1\" class=\"dataframe\">\n",
       "  <thead>\n",
       "    <tr style=\"text-align: right;\">\n",
       "      <th></th>\n",
       "      <th>data_size</th>\n",
       "      <th>groupby+apply (99th quantile)</th>\n",
       "      <th>groupby+map (99th quantile)</th>\n",
       "      <th>groupby+transform (99th quantile)</th>\n",
       "    </tr>\n",
       "  </thead>\n",
       "  <tbody>\n",
       "    <tr>\n",
       "      <th>0</th>\n",
       "      <td>100.0</td>\n",
       "      <td>0.059132</td>\n",
       "      <td>0.024446</td>\n",
       "      <td>0.022638</td>\n",
       "    </tr>\n",
       "    <tr>\n",
       "      <th>1</th>\n",
       "      <td>1000.0</td>\n",
       "      <td>0.287979</td>\n",
       "      <td>0.077320</td>\n",
       "      <td>0.122308</td>\n",
       "    </tr>\n",
       "    <tr>\n",
       "      <th>2</th>\n",
       "      <td>10000.0</td>\n",
       "      <td>0.485288</td>\n",
       "      <td>0.129774</td>\n",
       "      <td>0.196252</td>\n",
       "    </tr>\n",
       "    <tr>\n",
       "      <th>3</th>\n",
       "      <td>100000.0</td>\n",
       "      <td>0.526513</td>\n",
       "      <td>0.169864</td>\n",
       "      <td>0.232615</td>\n",
       "    </tr>\n",
       "    <tr>\n",
       "      <th>4</th>\n",
       "      <td>1000000.0</td>\n",
       "      <td>0.709854</td>\n",
       "      <td>0.441034</td>\n",
       "      <td>0.522756</td>\n",
       "    </tr>\n",
       "    <tr>\n",
       "      <th>5</th>\n",
       "      <td>10000000.0</td>\n",
       "      <td>4.417838</td>\n",
       "      <td>3.194311</td>\n",
       "      <td>3.981026</td>\n",
       "    </tr>\n",
       "  </tbody>\n",
       "</table>\n",
       "</div>"
      ],
      "text/plain": [
       "    data_size  groupby+apply (99th quantile)  groupby+map (99th quantile)  \\\n",
       "0       100.0                       0.059132                     0.024446   \n",
       "1      1000.0                       0.287979                     0.077320   \n",
       "2     10000.0                       0.485288                     0.129774   \n",
       "3    100000.0                       0.526513                     0.169864   \n",
       "4   1000000.0                       0.709854                     0.441034   \n",
       "5  10000000.0                       4.417838                     3.194311   \n",
       "\n",
       "   groupby+transform (99th quantile)  \n",
       "0                           0.022638  \n",
       "1                           0.122308  \n",
       "2                           0.196252  \n",
       "3                           0.232615  \n",
       "4                           0.522756  \n",
       "5                           3.981026  "
      ]
     },
     "execution_count": 48,
     "metadata": {},
     "output_type": "execute_result"
    }
   ],
   "source": [
    "perf_df4"
   ]
  },
  {
   "cell_type": "code",
   "execution_count": 49,
   "metadata": {},
   "outputs": [
    {
     "data": {
      "image/png": "[encoded data removed]",
      "text/plain": [
       "<Figure size 648x432 with 1 Axes>"
      ]
     },
     "metadata": {
      "needs_background": "light"
     },
     "output_type": "display_data"
    }
   ],
   "source": [
    "perf_plot(perf_df4, \"Execution time - group normalisation (99th quantile)\")"
   ]
  },
  {
   "cell_type": "markdown",
   "metadata": {},
   "source": [
    "In this case, the difference becomes less noticeable. And groupby + map becomes the most efficient in terms of exec time"
   ]
  },
  {
   "cell_type": "markdown",
   "metadata": {},
   "source": [
    "Since we had to change the default argument to 99th percentile), we could not use the default `optimised` string function of `quantile`. If we use lambda on the max function of `transform`, will the execution time be worse? "
   ]
  },
  {
   "cell_type": "code",
   "execution_count": 50,
   "metadata": {},
   "outputs": [],
   "source": [
    "def groupby_apply_lambda(df):\n",
    "    df['a_normalised'] = df.groupby('cat')['a'].apply(\n",
    "        lambda x: (x - np.min(x)) / (np.max(x) - np.min(x)),\n",
    "    )\n",
    "    return df\n",
    "\n",
    "\n",
    "def groupby_normalise_lambda(df):\n",
    "    grouped = df.groupby('cat').agg(\n",
    "        a_min=('a', 'min'),\n",
    "        a_max=('a', lambda x: x.max())\n",
    "    )\n",
    "    min_val = df['cat'].map(grouped['a_min'])\n",
    "    max_val = df['cat'].map(grouped['a_max'])\n",
    "    df['a_normalised'] = (df['a'] - min_val) / (max_val - min_val)\n",
    "    return df\n",
    "\n",
    "\n",
    "def unwrap_normalise_lambda(df):\n",
    "    g = df.groupby('cat')['a']\n",
    "    v = df['a']\n",
    "    df['a_normalised'] = (v - g.transform('min')) / \\\n",
    "        (g.transform(lambda x: x.max()) - g.transform('min'))\n",
    "    return df\n"
   ]
  },
  {
   "cell_type": "code",
   "execution_count": 51,
   "metadata": {},
   "outputs": [
    {
     "name": "stderr",
     "output_type": "stream",
     "text": [
      "100%|██████████| 6/6 [00:15<00:00,  2.65s/it]"
     ]
    },
    {
     "name": "stdout",
     "output_type": "stream",
     "text": [
      "CPU times: user 13.8 s, sys: 1.62 s, total: 15.4 s\n",
      "Wall time: 15.9 s\n"
     ]
    },
    {
     "name": "stderr",
     "output_type": "stream",
     "text": [
      "\n"
     ]
    }
   ],
   "source": [
    "%%time\n",
    "perf_df5 = pd.DataFrame()\n",
    "for n in tqdm([10 ** i for i in range(2, 8)]):\n",
    "    df = pd.DataFrame({\n",
    "        'cat': np.random.choice([f'cat_{i}' for i in range(1000)], size=n),\n",
    "        'a': np.random.randint(low=0, high=1e6, size=n),\n",
    "    })\n",
    "    perf_df5 = perf_df5.append({\n",
    "        \"data_size\": n,\n",
    "        \"groupby+apply (lambda)\": timeit.timeit(lambda: groupby_apply_lambda(df), number=1),\n",
    "        \"groupby+map (lambda)\": timeit.timeit(lambda: groupby_normalise_lambda(df), number=1),\n",
    "        \"groupby+transform (lambda)\": timeit.timeit(lambda: unwrap_normalise_lambda(df), number=1),\n",
    "    }, ignore_index=True)\n",
    "    del df\n",
    "    gc.collect()"
   ]
  },
  {
   "cell_type": "code",
   "execution_count": 52,
   "metadata": {},
   "outputs": [
    {
     "data": {
      "text/html": [
       "<div>\n",
       "<style scoped>\n",
       "    .dataframe tbody tr th:only-of-type {\n",
       "        vertical-align: middle;\n",
       "    }\n",
       "\n",
       "    .dataframe tbody tr th {\n",
       "        vertical-align: top;\n",
       "    }\n",
       "\n",
       "    .dataframe thead th {\n",
       "        text-align: right;\n",
       "    }\n",
       "</style>\n",
       "<table border=\"1\" class=\"dataframe\">\n",
       "  <thead>\n",
       "    <tr style=\"text-align: right;\">\n",
       "      <th></th>\n",
       "      <th>data_size</th>\n",
       "      <th>groupby+apply (lambda)</th>\n",
       "      <th>groupby+map (lambda)</th>\n",
       "      <th>groupby+transform (lambda)</th>\n",
       "    </tr>\n",
       "  </thead>\n",
       "  <tbody>\n",
       "    <tr>\n",
       "      <th>0</th>\n",
       "      <td>100.0</td>\n",
       "      <td>0.047320</td>\n",
       "      <td>0.014245</td>\n",
       "      <td>0.018477</td>\n",
       "    </tr>\n",
       "    <tr>\n",
       "      <th>1</th>\n",
       "      <td>1000.0</td>\n",
       "      <td>0.335428</td>\n",
       "      <td>0.052643</td>\n",
       "      <td>0.100104</td>\n",
       "    </tr>\n",
       "    <tr>\n",
       "      <th>2</th>\n",
       "      <td>10000.0</td>\n",
       "      <td>0.421685</td>\n",
       "      <td>0.077048</td>\n",
       "      <td>0.153422</td>\n",
       "    </tr>\n",
       "    <tr>\n",
       "      <th>3</th>\n",
       "      <td>100000.0</td>\n",
       "      <td>0.399408</td>\n",
       "      <td>0.129211</td>\n",
       "      <td>0.165108</td>\n",
       "    </tr>\n",
       "    <tr>\n",
       "      <th>4</th>\n",
       "      <td>1000000.0</td>\n",
       "      <td>0.566843</td>\n",
       "      <td>0.373995</td>\n",
       "      <td>0.495256</td>\n",
       "    </tr>\n",
       "    <tr>\n",
       "      <th>5</th>\n",
       "      <td>10000000.0</td>\n",
       "      <td>3.991390</td>\n",
       "      <td>2.983589</td>\n",
       "      <td>3.319806</td>\n",
       "    </tr>\n",
       "  </tbody>\n",
       "</table>\n",
       "</div>"
      ],
      "text/plain": [
       "    data_size  groupby+apply (lambda)  groupby+map (lambda)  \\\n",
       "0       100.0                0.047320              0.014245   \n",
       "1      1000.0                0.335428              0.052643   \n",
       "2     10000.0                0.421685              0.077048   \n",
       "3    100000.0                0.399408              0.129211   \n",
       "4   1000000.0                0.566843              0.373995   \n",
       "5  10000000.0                3.991390              2.983589   \n",
       "\n",
       "   groupby+transform (lambda)  \n",
       "0                    0.018477  \n",
       "1                    0.100104  \n",
       "2                    0.153422  \n",
       "3                    0.165108  \n",
       "4                    0.495256  \n",
       "5                    3.319806  "
      ]
     },
     "execution_count": 52,
     "metadata": {},
     "output_type": "execute_result"
    }
   ],
   "source": [
    "perf_df5"
   ]
  },
  {
   "cell_type": "code",
   "execution_count": 53,
   "metadata": {},
   "outputs": [
    {
     "data": {
      "image/png": "[encoded data removed]",
      "text/plain": [
       "<Figure size 648x432 with 1 Axes>"
      ]
     },
     "metadata": {
      "needs_background": "light"
     },
     "output_type": "display_data"
    }
   ],
   "source": [
    "perf_plot(perf_df5, \"Execution time - group normalisation (lambda max)\")"
   ]
  },
  {
   "cell_type": "markdown",
   "metadata": {},
   "source": [
    "The same with the quantile case: When we use lambda for max, the differences become much less noticeable. And groupby+transform has worse performance"
   ]
  },
  {
   "cell_type": "markdown",
   "metadata": {},
   "source": [
    "### Reduce dataframe memory usage "
   ]
  },
  {
   "cell_type": "markdown",
   "metadata": {},
   "source": [
    "Function taken from [this article](https://www.mikulskibartosz.name/how-to-reduce-memory-usage-in-pandas/). The idea is converting the column data types into the minimum required type. "
   ]
  },
  {
   "cell_type": "code",
   "execution_count": 81,
   "metadata": {},
   "outputs": [],
   "source": [
    "def reduce_mem_usage(df):\n",
    "    start_mem = df.memory_usage().sum() / 1024**2\n",
    "    print('Memory usage of dataframe is {:.2f} MB'.format(start_mem))\n",
    "\n",
    "    for col in df.columns:\n",
    "        col_type = df[col].dtype\n",
    "        if col_type != object:\n",
    "            c_min = df[col].min()\n",
    "            c_max = df[col].max()\n",
    "            if str(col_type)[:3] == 'int':\n",
    "                if c_min > np.iinfo(np.int8).min and c_max < np.iinfo(np.int8).max:\n",
    "                    df[col] = df[col].astype(np.int8)\n",
    "                elif c_min > np.iinfo(np.uint8).min and c_max < np.iinfo(np.uint8).max:\n",
    "                    df[col] = df[col].astype(np.uint8)\n",
    "                elif c_min > np.iinfo(np.int16).min and c_max < np.iinfo(np.int16).max:\n",
    "                    df[col] = df[col].astype(np.int16)\n",
    "                elif c_min > np.iinfo(np.uint16).min and c_max < np.iinfo(np.uint16).max:\n",
    "                    df[col] = df[col].astype(np.uint16)\n",
    "                elif c_min > np.iinfo(np.int32).min and c_max < np.iinfo(np.int32).max:\n",
    "                    df[col] = df[col].astype(np.int32)\n",
    "                elif c_min > np.iinfo(np.uint32).min and c_max < np.iinfo(np.uint32).max:\n",
    "                    df[col] = df[col].astype(np.uint32)\n",
    "                elif c_min > np.iinfo(np.int64).min and c_max < np.iinfo(np.int64).max:\n",
    "                    df[col] = df[col].astype(np.int64)\n",
    "                elif c_min > np.iinfo(np.uint64).min and c_max < np.iinfo(np.uint64).max:\n",
    "                    df[col] = df[col].astype(np.uint64)\n",
    "            elif str(col_type)[:5] == 'float':\n",
    "                if c_min > np.finfo(np.float16).min and c_max < np.finfo(np.float16).max:\n",
    "                    df[col] = df[col].astype(np.float16)\n",
    "                elif c_min > np.finfo(np.float32).min and c_max < np.finfo(np.float32).max:\n",
    "                    df[col] = df[col].astype(np.float32)\n",
    "                else:\n",
    "                    df[col] = df[col].astype(np.float64)\n",
    "        else:\n",
    "            df[col] = df[col].astype('category')\n",
    "\n",
    "    end_mem = df.memory_usage().sum() / 1024**2\n",
    "    print('Memory usage after optimization is: {:.2f} MB'.format(end_mem))\n",
    "    print('Decreased by {:.1f}%'.format(\n",
    "        100 * (start_mem - end_mem) / start_mem))\n",
    "\n",
    "    return df\n"
   ]
  },
  {
   "cell_type": "code",
   "execution_count": 88,
   "metadata": {},
   "outputs": [],
   "source": [
    "df = pd.DataFrame({\n",
    "    'a': np.random.randint(low=0,high=1e6, size=10**7),\n",
    "    'b': np.random.random(size=10**7)   ,\n",
    "    'c': np.random.choice([f'cat_{i}' for i in range(1000)], size=10**7)\n",
    "})"
   ]
  },
  {
   "cell_type": "code",
   "execution_count": 89,
   "metadata": {},
   "outputs": [
    {
     "data": {
      "text/plain": [
       "a      int64\n",
       "b    float64\n",
       "c     object\n",
       "dtype: object"
      ]
     },
     "execution_count": 89,
     "metadata": {},
     "output_type": "execute_result"
    }
   ],
   "source": [
    "df.dtypes"
   ]
  },
  {
   "cell_type": "code",
   "execution_count": 90,
   "metadata": {},
   "outputs": [
    {
     "name": "stdout",
     "output_type": "stream",
     "text": [
      "Memory usage of dataframe is 228.88 MB\n",
      "Memory usage after optimization is: 76.33 MB\n",
      "Decreased by 66.6%\n"
     ]
    }
   ],
   "source": [
    "df = df.pipe(reduce_mem_usage)"
   ]
  },
  {
   "cell_type": "code",
   "execution_count": 91,
   "metadata": {},
   "outputs": [
    {
     "data": {
      "text/plain": [
       "a       int32\n",
       "b     float16\n",
       "c    category\n",
       "dtype: object"
      ]
     },
     "execution_count": 91,
     "metadata": {},
     "output_type": "execute_result"
    }
   ],
   "source": [
    "df.dtypes"
   ]
  },
  {
   "cell_type": "markdown",
   "metadata": {},
   "source": [
    "### Categoricals"
   ]
  },
  {
   "cell_type": "markdown",
   "metadata": {},
   "source": [
    "If we have text categories in the data, or a lot of repeated text then it can be beneficial to convert to pandas Categoricals."
   ]
  },
  {
   "cell_type": "markdown",
   "metadata": {},
   "source": [
    "#### Less memory usage"
   ]
  },
  {
   "cell_type": "markdown",
   "metadata": {},
   "source": [
    "As shown above, the memory usage function converts the object column into category type. Let's see specifically how much memory we could save by doing so.\n",
    "Example taken from [this article](https://tomaugspurger.github.io/modern-4-performance)"
   ]
  },
  {
   "cell_type": "code",
   "execution_count": 109,
   "metadata": {},
   "outputs": [
    {
     "name": "stdout",
     "output_type": "stream",
     "text": [
      "s: 800.0 KB\n",
      "c: 102.52 KB\n",
      "Decreased by 87.2%\n"
     ]
    }
   ],
   "source": [
    "s = pd.Series(np.random.choice(list(string.ascii_letters), 100000))\n",
    "s_mem = s.memory_usage(index=False) / 1000\n",
    "print(f's: {s_mem} KB')\n",
    "c = s.astype('category')\n",
    "c_mem = c.memory_usage(index=False) / 1000\n",
    "print(f'c: {c_mem} KB')\n",
    "print('Decreased by {:.1f}%'.format(100 * (s_mem - c_mem) / s_mem))"
   ]
  },
  {
   "cell_type": "markdown",
   "metadata": {},
   "source": [
    "#### Better performance"
   ]
  },
  {
   "cell_type": "markdown",
   "metadata": {},
   "source": [
    "Let's revisit the groupby example, this time the dataframe category column is converted to category dtype"
   ]
  },
  {
   "cell_type": "code",
   "execution_count": 160,
   "metadata": {},
   "outputs": [],
   "source": [
    "def groupby_apply_cat(df):\n",
    "    df['a_normalised'] = df.groupby('cat')['a'].apply(\n",
    "        lambda x: (x - np.min(x)) / (np.max(x) - np.min(x)),\n",
    "    )\n",
    "    return df\n",
    "\n",
    "\n",
    "def groupby_normalise_cat(df):\n",
    "    grouped = df.groupby('cat').agg(\n",
    "        a_min=('a', 'min'),\n",
    "        a_max=('a', 'max')\n",
    "    )\n",
    "    min_val = df['cat'].map(grouped['a_min']).to_numpy()\n",
    "    max_val = df['cat'].map(grouped['a_max']).to_numpy()\n",
    "    df['a_normalised'] = (df['a'] - min_val) / (max_val - min_val)\n",
    "    return df\n",
    "\n",
    "\n",
    "def unwrap_normalise_cat(df):\n",
    "    g = df.groupby('cat')['a']\n",
    "    v = df['a']\n",
    "    df['a_normalised'] = (v - g.transform('min')) / \\\n",
    "        (g.transform('max') - g.transform('min'))\n",
    "    return df\n"
   ]
  },
  {
   "cell_type": "code",
   "execution_count": 164,
   "metadata": {},
   "outputs": [
    {
     "name": "stderr",
     "output_type": "stream",
     "text": [
      "100%|██████████| 6/6 [00:08<00:00,  1.49s/it]"
     ]
    },
    {
     "name": "stdout",
     "output_type": "stream",
     "text": [
      "CPU times: user 7.47 s, sys: 1.25 s, total: 8.72 s\n",
      "Wall time: 8.93 s\n"
     ]
    },
    {
     "name": "stderr",
     "output_type": "stream",
     "text": [
      "\n"
     ]
    }
   ],
   "source": [
    "%%time\n",
    "perf_df6 = pd.DataFrame()\n",
    "for n in tqdm([10 ** i for i in range(2, 8)]):\n",
    "    df = pd.DataFrame({\n",
    "        'cat': np.random.choice([f'cat_{i}' for i in range(1000)], size=n),\n",
    "        'a': np.random.randint(low=0, high=1e6, size=n),\n",
    "    })\n",
    "    df['cat'] = df['cat'].astype(\"category\")\n",
    "    perf_df6 = perf_df6.append({\n",
    "        \"data_size\": n,\n",
    "        \"groupby+apply (cat)\": timeit.timeit(lambda: groupby_apply_cat(df), number=1),\n",
    "        \"groupby+map (cat)\": timeit.timeit(lambda: groupby_normalise_cat(df), number=1),\n",
    "        \"groupby+transform (cat)\": timeit.timeit(lambda: unwrap_normalise_cat(df), number=1),\n",
    "    }, ignore_index=True)\n",
    "    del df\n",
    "    gc.collect()"
   ]
  },
  {
   "cell_type": "code",
   "execution_count": 169,
   "metadata": {},
   "outputs": [
    {
     "data": {
      "text/html": [
       "<div>\n",
       "<style scoped>\n",
       "    .dataframe tbody tr th:only-of-type {\n",
       "        vertical-align: middle;\n",
       "    }\n",
       "\n",
       "    .dataframe tbody tr th {\n",
       "        vertical-align: top;\n",
       "    }\n",
       "\n",
       "    .dataframe thead th {\n",
       "        text-align: right;\n",
       "    }\n",
       "</style>\n",
       "<table border=\"1\" class=\"dataframe\">\n",
       "  <thead>\n",
       "    <tr style=\"text-align: right;\">\n",
       "      <th></th>\n",
       "      <th>data_size</th>\n",
       "      <th>groupby+apply</th>\n",
       "      <th>groupby+map</th>\n",
       "      <th>groupby+transform</th>\n",
       "      <th>groupby+apply (cat)</th>\n",
       "      <th>groupby+map (cat)</th>\n",
       "      <th>groupby+transform (cat)</th>\n",
       "    </tr>\n",
       "  </thead>\n",
       "  <tbody>\n",
       "    <tr>\n",
       "      <th>0</th>\n",
       "      <td>100.0</td>\n",
       "      <td>0.062210</td>\n",
       "      <td>0.007735</td>\n",
       "      <td>0.001741</td>\n",
       "      <td>0.040100</td>\n",
       "      <td>0.022399</td>\n",
       "      <td>0.010174</td>\n",
       "    </tr>\n",
       "    <tr>\n",
       "      <th>1</th>\n",
       "      <td>1000.0</td>\n",
       "      <td>0.291659</td>\n",
       "      <td>0.007940</td>\n",
       "      <td>0.002664</td>\n",
       "      <td>0.261610</td>\n",
       "      <td>0.005985</td>\n",
       "      <td>0.001392</td>\n",
       "    </tr>\n",
       "    <tr>\n",
       "      <th>2</th>\n",
       "      <td>10000.0</td>\n",
       "      <td>0.359748</td>\n",
       "      <td>0.009703</td>\n",
       "      <td>0.002623</td>\n",
       "      <td>0.400220</td>\n",
       "      <td>0.007118</td>\n",
       "      <td>0.002779</td>\n",
       "    </tr>\n",
       "    <tr>\n",
       "      <th>3</th>\n",
       "      <td>100000.0</td>\n",
       "      <td>0.411211</td>\n",
       "      <td>0.049122</td>\n",
       "      <td>0.019380</td>\n",
       "      <td>0.376602</td>\n",
       "      <td>0.009203</td>\n",
       "      <td>0.006207</td>\n",
       "    </tr>\n",
       "    <tr>\n",
       "      <th>4</th>\n",
       "      <td>1000000.0</td>\n",
       "      <td>0.597881</td>\n",
       "      <td>0.256944</td>\n",
       "      <td>0.089526</td>\n",
       "      <td>0.468711</td>\n",
       "      <td>0.052102</td>\n",
       "      <td>0.038574</td>\n",
       "    </tr>\n",
       "    <tr>\n",
       "      <th>5</th>\n",
       "      <td>10000000.0</td>\n",
       "      <td>3.897847</td>\n",
       "      <td>2.371396</td>\n",
       "      <td>0.767930</td>\n",
       "      <td>3.466366</td>\n",
       "      <td>0.370427</td>\n",
       "      <td>0.308236</td>\n",
       "    </tr>\n",
       "  </tbody>\n",
       "</table>\n",
       "</div>"
      ],
      "text/plain": [
       "    data_size  groupby+apply  groupby+map  groupby+transform  \\\n",
       "0       100.0       0.062210     0.007735           0.001741   \n",
       "1      1000.0       0.291659     0.007940           0.002664   \n",
       "2     10000.0       0.359748     0.009703           0.002623   \n",
       "3    100000.0       0.411211     0.049122           0.019380   \n",
       "4   1000000.0       0.597881     0.256944           0.089526   \n",
       "5  10000000.0       3.897847     2.371396           0.767930   \n",
       "\n",
       "   groupby+apply (cat)  groupby+map (cat)  groupby+transform (cat)  \n",
       "0             0.040100           0.022399                 0.010174  \n",
       "1             0.261610           0.005985                 0.001392  \n",
       "2             0.400220           0.007118                 0.002779  \n",
       "3             0.376602           0.009203                 0.006207  \n",
       "4             0.468711           0.052102                 0.038574  \n",
       "5             3.466366           0.370427                 0.308236  "
      ]
     },
     "execution_count": 169,
     "metadata": {},
     "output_type": "execute_result"
    }
   ],
   "source": [
    "pd.merge(perf_df3, perf_df6, how='inner', on='data_size')"
   ]
  },
  {
   "cell_type": "code",
   "execution_count": 170,
   "metadata": {},
   "outputs": [
    {
     "data": {
      "image/png": "[encoded data removed]",
      "text/plain": [
       "<Figure size 648x432 with 1 Axes>"
      ]
     },
     "metadata": {
      "needs_background": "light"
     },
     "output_type": "display_data"
    }
   ],
   "source": [
    "perf_plot(\n",
    "    pd.merge(perf_df3, perf_df6, how='inner', on='data_size'),\n",
    "    \"Execution time - Normalisation methods\"\n",
    ")"
   ]
  },
  {
   "cell_type": "markdown",
   "metadata": {},
   "source": [
    "### String operations"
   ]
  },
  {
   "cell_type": "markdown",
   "metadata": {},
   "source": [
    "Following the above example, can we conclude that vectorised operations in `pandas` are always faster than pythonic loop? \n",
    "- According to various sources like [this](https://stackoverflow.com/questions/54028199/are-for-loops-in-pandas-really-bad-when-should-i-care) and [this](https://pythonspeed.com/articles/pandas-vectorization/), `pandas`'s `str` operations can often be slower or at least not an improvement compared to Python loops since it will revert back to Python loop in many cases."
   ]
  },
  {
   "cell_type": "markdown",
   "metadata": {},
   "source": [
    "For demonstration purpose, we will use an open dataset with text data from [https://archive.ics.uci.edu/ml/machine-learning-databases/00462/](https://archive.ics.uci.edu/ml/machine-learning-databases/00462/). \n",
    "\n",
    "```\n",
    "Data Set Information:\n",
    "\n",
    "The dataset provides patient reviews on specific drugs along with related conditions and a 10 star patient rating reflecting overall patient satisfaction. The data was obtained by crawling online pharmaceutical review sites. The intention was to study\n",
    "\n",
    "Attribute Information:\n",
    "\n",
    "1. drugName (categorical): name of drug\n",
    "2. condition (categorical): name of condition\n",
    "3. review (text): patient review\n",
    "4. rating (numerical): 10 star patient rating\n",
    "5. date (date): date of review entry\n",
    "6. usefulCount (numerical): number of users who found review useful\n",
    "\n",
    "```\n"
   ]
  },
  {
   "cell_type": "code",
   "execution_count": 26,
   "metadata": {},
   "outputs": [
    {
     "name": "stdout",
     "output_type": "stream",
     "text": [
      "Archive:  drugsCom_raw.zip\n",
      "  inflating: drugsComTest_raw.tsv    \n",
      "  inflating: drugsComTrain_raw.tsv   \n"
     ]
    }
   ],
   "source": [
    "# !curl -O https://archive.ics.uci.edu/ml/machine-learning-databases/00462/drugsCom_raw.zip\n",
    "# !unzip drugsCom_raw.zip"
   ]
  },
  {
   "cell_type": "code",
   "execution_count": 2,
   "metadata": {},
   "outputs": [],
   "source": [
    "df = pd.read_csv(\"drugsComTrain_raw.tsv\", sep='\\t',)"
   ]
  },
  {
   "cell_type": "code",
   "execution_count": 10,
   "metadata": {},
   "outputs": [
    {
     "data": {
      "text/html": [
       "<div>\n",
       "<style scoped>\n",
       "    .dataframe tbody tr th:only-of-type {\n",
       "        vertical-align: middle;\n",
       "    }\n",
       "\n",
       "    .dataframe tbody tr th {\n",
       "        vertical-align: top;\n",
       "    }\n",
       "\n",
       "    .dataframe thead th {\n",
       "        text-align: right;\n",
       "    }\n",
       "</style>\n",
       "<table border=\"1\" class=\"dataframe\">\n",
       "  <thead>\n",
       "    <tr style=\"text-align: right;\">\n",
       "      <th></th>\n",
       "      <th>Unnamed: 0</th>\n",
       "      <th>drugName</th>\n",
       "      <th>condition</th>\n",
       "      <th>review</th>\n",
       "      <th>rating</th>\n",
       "      <th>date</th>\n",
       "      <th>usefulCount</th>\n",
       "    </tr>\n",
       "  </thead>\n",
       "  <tbody>\n",
       "    <tr>\n",
       "      <th>0</th>\n",
       "      <td>206461</td>\n",
       "      <td>Valsartan</td>\n",
       "      <td>Left Ventricular Dysfunction</td>\n",
       "      <td>\"It has no side effect, I take it in combinati...</td>\n",
       "      <td>9.0</td>\n",
       "      <td>May 20, 2012</td>\n",
       "      <td>27</td>\n",
       "    </tr>\n",
       "    <tr>\n",
       "      <th>1</th>\n",
       "      <td>95260</td>\n",
       "      <td>Guanfacine</td>\n",
       "      <td>ADHD</td>\n",
       "      <td>\"My son is halfway through his fourth week of ...</td>\n",
       "      <td>8.0</td>\n",
       "      <td>April 27, 2010</td>\n",
       "      <td>192</td>\n",
       "    </tr>\n",
       "    <tr>\n",
       "      <th>2</th>\n",
       "      <td>92703</td>\n",
       "      <td>Lybrel</td>\n",
       "      <td>Birth Control</td>\n",
       "      <td>\"I used to take another oral contraceptive, wh...</td>\n",
       "      <td>5.0</td>\n",
       "      <td>December 14, 2009</td>\n",
       "      <td>17</td>\n",
       "    </tr>\n",
       "    <tr>\n",
       "      <th>3</th>\n",
       "      <td>138000</td>\n",
       "      <td>Ortho Evra</td>\n",
       "      <td>Birth Control</td>\n",
       "      <td>\"This is my first time using any form of birth...</td>\n",
       "      <td>8.0</td>\n",
       "      <td>November 3, 2015</td>\n",
       "      <td>10</td>\n",
       "    </tr>\n",
       "    <tr>\n",
       "      <th>4</th>\n",
       "      <td>35696</td>\n",
       "      <td>Buprenorphine / naloxone</td>\n",
       "      <td>Opiate Dependence</td>\n",
       "      <td>\"Suboxone has completely turned my life around...</td>\n",
       "      <td>9.0</td>\n",
       "      <td>November 27, 2016</td>\n",
       "      <td>37</td>\n",
       "    </tr>\n",
       "  </tbody>\n",
       "</table>\n",
       "</div>"
      ],
      "text/plain": [
       "   Unnamed: 0                  drugName                     condition  \\\n",
       "0      206461                 Valsartan  Left Ventricular Dysfunction   \n",
       "1       95260                Guanfacine                          ADHD   \n",
       "2       92703                    Lybrel                 Birth Control   \n",
       "3      138000                Ortho Evra                 Birth Control   \n",
       "4       35696  Buprenorphine / naloxone             Opiate Dependence   \n",
       "\n",
       "                                              review  rating  \\\n",
       "0  \"It has no side effect, I take it in combinati...     9.0   \n",
       "1  \"My son is halfway through his fourth week of ...     8.0   \n",
       "2  \"I used to take another oral contraceptive, wh...     5.0   \n",
       "3  \"This is my first time using any form of birth...     8.0   \n",
       "4  \"Suboxone has completely turned my life around...     9.0   \n",
       "\n",
       "                date  usefulCount  \n",
       "0       May 20, 2012           27  \n",
       "1     April 27, 2010          192  \n",
       "2  December 14, 2009           17  \n",
       "3   November 3, 2015           10  \n",
       "4  November 27, 2016           37  "
      ]
     },
     "execution_count": 10,
     "metadata": {},
     "output_type": "execute_result"
    }
   ],
   "source": [
    "df.head()"
   ]
  },
  {
   "cell_type": "code",
   "execution_count": 7,
   "metadata": {},
   "outputs": [
    {
     "data": {
      "text/plain": [
       "count    161297.000000\n",
       "mean        458.726238\n",
       "std         242.130235\n",
       "min           3.000000\n",
       "25%         262.000000\n",
       "50%         455.000000\n",
       "75%         691.000000\n",
       "max       10787.000000\n",
       "Name: review, dtype: float64"
      ]
     },
     "execution_count": 7,
     "metadata": {},
     "output_type": "execute_result"
    }
   ],
   "source": [
    "df.review.str.len().describe()"
   ]
  },
  {
   "cell_type": "code",
   "execution_count": 23,
   "metadata": {},
   "outputs": [],
   "source": [
    "df['review2'] = df['review'].str.strip(\"\\\"\")"
   ]
  },
  {
   "cell_type": "code",
   "execution_count": 24,
   "metadata": {},
   "outputs": [
    {
     "data": {
      "text/plain": [
       "array(['I have been getting several cold sores a year and I am not lucky enough to feel that first tingle. I wake up with a full blown blister! I&#039;ve tried Abreva and several over the counter remedies with no luck. I finally asked my Dr for something stronger and they prescribed Valtrex. I had no luck with that either.\\r\\nI woke up on a Monday with a huge cold sore blister and took my Valtrex as prescribed with no luck. I saw my Dr again and asked for Denavir because I saw great reviews online. I applied it on Thursday to a very huge, and disgusting, blister every 2 hours as directed and by Sunday the cold sore was gone!! Normally it takes me almost 2 full weeks to get rid of one. This is truly my miracle product! However, it is ridiculously expansive.'],\n",
       "      dtype=object)"
      ]
     },
     "execution_count": 24,
     "metadata": {},
     "output_type": "execute_result"
    }
   ],
   "source": [
    "df.review2.sample().values"
   ]
  },
  {
   "cell_type": "markdown",
   "metadata": {},
   "source": [
    "#### String length"
   ]
  },
  {
   "cell_type": "code",
   "execution_count": 53,
   "metadata": {},
   "outputs": [
    {
     "name": "stdout",
     "output_type": "stream",
     "text": [
      "827 ms ± 10.1 ms per loop (mean ± std. dev. of 7 runs, 1 loop each)\n"
     ]
    }
   ],
   "source": [
    "%timeit df[\"review_len\"] = df[\"review2\"].str.split().str.len()"
   ]
  },
  {
   "cell_type": "code",
   "execution_count": 22,
   "metadata": {},
   "outputs": [],
   "source": [
    "def text_len(s):\n",
    "    return len(s.split())"
   ]
  },
  {
   "cell_type": "code",
   "execution_count": 55,
   "metadata": {},
   "outputs": [
    {
     "name": "stdout",
     "output_type": "stream",
     "text": [
      "770 ms ± 13.5 ms per loop (mean ± std. dev. of 7 runs, 1 loop each)\n"
     ]
    }
   ],
   "source": [
    "%timeit df['review_len2'] = [text_len(s) for s in df['review2']]"
   ]
  },
  {
   "cell_type": "code",
   "execution_count": 56,
   "metadata": {},
   "outputs": [],
   "source": [
    "assert (df['review_len'] == df['review_len2']).all()"
   ]
  },
  {
   "cell_type": "code",
   "execution_count": 66,
   "metadata": {},
   "outputs": [
    {
     "name": "stderr",
     "output_type": "stream",
     "text": [
      "100%|█████████████████████████████████████████████████████████████████████████████████████████████████████████████████████████████████████████| 5/5 [55:15<00:00, 663.18s/it]"
     ]
    },
    {
     "name": "stdout",
     "output_type": "stream",
     "text": [
      "CPU times: user 7min 35s, sys: 26min 21s, total: 33min 57s\n",
      "Wall time: 55min 15s\n"
     ]
    },
    {
     "name": "stderr",
     "output_type": "stream",
     "text": [
      "\n"
     ]
    }
   ],
   "source": [
    "%%time\n",
    "perf_df7 = pd.DataFrame()\n",
    "for i in tqdm([0.01, 0.1, 1, 10, 100]):\n",
    "    if i < 1:\n",
    "        df = pd.read_csv(\"drugsComTrain_raw.tsv\", sep='\\t',)[['review']].sample(frac=i)\n",
    "    else:\n",
    "        df = pd.concat([pd.read_csv(\"drugsComTrain_raw.tsv\", sep='\\t',)[['review']]]*i)\n",
    "    df['review2'] = df['review'].str.strip(\"\\\"\")\n",
    "    perf_df7 = perf_df7.append({\n",
    "        \"data_size\": df.shape[0],\n",
    "        \"vectorised str\": timeit.timeit(lambda: df[\"review2\"].str.split().str.len(), number=1),\n",
    "        \"python loop\": timeit.timeit(lambda: [text_len(s) for s in df['review2']], number=1),\n",
    "    }, ignore_index=True)\n",
    "    del df\n",
    "    gc.collect()"
   ]
  },
  {
   "cell_type": "code",
   "execution_count": 67,
   "metadata": {},
   "outputs": [
    {
     "data": {
      "text/html": [
       "<div>\n",
       "<style scoped>\n",
       "    .dataframe tbody tr th:only-of-type {\n",
       "        vertical-align: middle;\n",
       "    }\n",
       "\n",
       "    .dataframe tbody tr th {\n",
       "        vertical-align: top;\n",
       "    }\n",
       "\n",
       "    .dataframe thead th {\n",
       "        text-align: right;\n",
       "    }\n",
       "</style>\n",
       "<table border=\"1\" class=\"dataframe\">\n",
       "  <thead>\n",
       "    <tr style=\"text-align: right;\">\n",
       "      <th></th>\n",
       "      <th>data_size</th>\n",
       "      <th>vectorised str</th>\n",
       "      <th>python loop</th>\n",
       "    </tr>\n",
       "  </thead>\n",
       "  <tbody>\n",
       "    <tr>\n",
       "      <th>0</th>\n",
       "      <td>1613.0</td>\n",
       "      <td>0.008589</td>\n",
       "      <td>0.007444</td>\n",
       "    </tr>\n",
       "    <tr>\n",
       "      <th>1</th>\n",
       "      <td>16130.0</td>\n",
       "      <td>0.096071</td>\n",
       "      <td>0.078500</td>\n",
       "    </tr>\n",
       "    <tr>\n",
       "      <th>2</th>\n",
       "      <td>161297.0</td>\n",
       "      <td>0.931878</td>\n",
       "      <td>0.726394</td>\n",
       "    </tr>\n",
       "    <tr>\n",
       "      <th>3</th>\n",
       "      <td>1612970.0</td>\n",
       "      <td>11.944656</td>\n",
       "      <td>7.255283</td>\n",
       "    </tr>\n",
       "    <tr>\n",
       "      <th>4</th>\n",
       "      <td>16129700.0</td>\n",
       "      <td>1341.056983</td>\n",
       "      <td>111.311395</td>\n",
       "    </tr>\n",
       "  </tbody>\n",
       "</table>\n",
       "</div>"
      ],
      "text/plain": [
       "    data_size  vectorised str  python loop\n",
       "0      1613.0        0.008589     0.007444\n",
       "1     16130.0        0.096071     0.078500\n",
       "2    161297.0        0.931878     0.726394\n",
       "3   1612970.0       11.944656     7.255283\n",
       "4  16129700.0     1341.056983   111.311395"
      ]
     },
     "execution_count": 67,
     "metadata": {},
     "output_type": "execute_result"
    }
   ],
   "source": [
    "perf_df7"
   ]
  },
  {
   "cell_type": "code",
   "execution_count": 68,
   "metadata": {},
   "outputs": [
    {
     "data": {
      "image/png": "[encoded data removed]",
      "text/plain": [
       "<Figure size 648x432 with 1 Axes>"
      ]
     },
     "metadata": {
      "needs_background": "light"
     },
     "output_type": "display_data"
    }
   ],
   "source": [
    "perf_plot(perf_df7, \"Execution time of string length calculation methods\")"
   ]
  },
  {
   "cell_type": "markdown",
   "metadata": {},
   "source": [
    "For this use case, we can clearly see that the vectorised approach with `str` accessor is even slower than pure for loop with listcomp."
   ]
  },
  {
   "cell_type": "markdown",
   "metadata": {},
   "source": [
    "#### Regex search"
   ]
  },
  {
   "cell_type": "markdown",
   "metadata": {},
   "source": [
    "Another common use case is regular expression search. Let's say we want to find the price in US dollars in the reviews"
   ]
  },
  {
   "cell_type": "code",
   "execution_count": 25,
   "metadata": {},
   "outputs": [
    {
     "name": "stdout",
     "output_type": "stream",
     "text": [
      "96.4 ms ± 1.79 ms per loop (mean ± std. dev. of 7 runs, 10 loops each)\n"
     ]
    }
   ],
   "source": [
    "%timeit df['price'] = df['review2'].str.extract(r\"\\$(\\d{1,3}(?:\\,\\d{3})*)\\b\")"
   ]
  },
  {
   "cell_type": "code",
   "execution_count": 28,
   "metadata": {},
   "outputs": [
    {
     "data": {
      "text/plain": [
       "array(['Plan B is awesome! I really works, i was freaking out and looking for reviews just like some of you now because, i was on my most fertile days when i had unprotected sex, and i took plan b just two hours later and it worked!!! i got my period the next week after that. \\r\\r\\n*If you have not purchased plan b yet and are unsure go on the website for $10 off coupon before you get it.'],\n",
       "      dtype=object)"
      ]
     },
     "execution_count": 28,
     "metadata": {},
     "output_type": "execute_result"
    }
   ],
   "source": [
    "df[df['price'].notnull()].review2.sample().values"
   ]
  },
  {
   "cell_type": "code",
   "execution_count": 11,
   "metadata": {},
   "outputs": [],
   "source": [
    "def find_price(s):\n",
    "    match = re.findall(r\"\\$(\\d{1,3}(?:\\,\\d{3})*)\\b\", s)\n",
    "    if match:\n",
    "        return match[0]\n",
    "    return np.nan"
   ]
  },
  {
   "cell_type": "code",
   "execution_count": 12,
   "metadata": {},
   "outputs": [
    {
     "name": "stdout",
     "output_type": "stream",
     "text": [
      "167 ms ± 4.36 ms per loop (mean ± std. dev. of 7 runs, 10 loops each)\n"
     ]
    }
   ],
   "source": [
    "%timeit df['price2'] = [find_price(s) for s in df['review2']]"
   ]
  },
  {
   "cell_type": "code",
   "execution_count": 13,
   "metadata": {},
   "outputs": [
    {
     "name": "stderr",
     "output_type": "stream",
     "text": [
      "100%|██████████████████████████████████████████████████████████████████████████████████████████████████████████████████████████| 5/5 [01:08<00:00, 13.61s/it]"
     ]
    },
    {
     "name": "stdout",
     "output_type": "stream",
     "text": [
      "CPU times: user 51.5 s, sys: 11.9 s, total: 1min 3s\n",
      "Wall time: 1min 8s\n"
     ]
    },
    {
     "name": "stderr",
     "output_type": "stream",
     "text": [
      "\n"
     ]
    }
   ],
   "source": [
    "%%time\n",
    "perf_df8 = pd.DataFrame()\n",
    "for i in tqdm([0.01, 0.1, 1, 10, 100]):\n",
    "    if i < 1:\n",
    "        df = pd.read_csv(\"drugsComTrain_raw.tsv\", sep='\\t',)[['review']].sample(frac=i)\n",
    "    else:\n",
    "        df = pd.concat([pd.read_csv(\"drugsComTrain_raw.tsv\", sep='\\t',)[['review']]]*i)\n",
    "    df['review2'] = df['review'].str.strip(\"\\\"\")\n",
    "    perf_df8 = perf_df8.append({\n",
    "        \"data_size\": df.shape[0],\n",
    "        \"vectorised str\": timeit.timeit(lambda: df['review2'].str.extract(r\"\\$(\\d{1,3}(?:\\,\\d{3})*)\\b\"), number=1),\n",
    "        \"python loop\": timeit.timeit(lambda: [find_price(s) for s in df['review2']], number=1),\n",
    "    }, ignore_index=True)\n",
    "    del df\n",
    "    gc.collect()"
   ]
  },
  {
   "cell_type": "code",
   "execution_count": 14,
   "metadata": {},
   "outputs": [
    {
     "data": {
      "text/html": [
       "<div>\n",
       "<style scoped>\n",
       "    .dataframe tbody tr th:only-of-type {\n",
       "        vertical-align: middle;\n",
       "    }\n",
       "\n",
       "    .dataframe tbody tr th {\n",
       "        vertical-align: top;\n",
       "    }\n",
       "\n",
       "    .dataframe thead th {\n",
       "        text-align: right;\n",
       "    }\n",
       "</style>\n",
       "<table border=\"1\" class=\"dataframe\">\n",
       "  <thead>\n",
       "    <tr style=\"text-align: right;\">\n",
       "      <th></th>\n",
       "      <th>data_size</th>\n",
       "      <th>vectorised str</th>\n",
       "      <th>python loop</th>\n",
       "    </tr>\n",
       "  </thead>\n",
       "  <tbody>\n",
       "    <tr>\n",
       "      <th>0</th>\n",
       "      <td>1613.0</td>\n",
       "      <td>0.001848</td>\n",
       "      <td>0.001719</td>\n",
       "    </tr>\n",
       "    <tr>\n",
       "      <th>1</th>\n",
       "      <td>16130.0</td>\n",
       "      <td>0.009886</td>\n",
       "      <td>0.017850</td>\n",
       "    </tr>\n",
       "    <tr>\n",
       "      <th>2</th>\n",
       "      <td>161297.0</td>\n",
       "      <td>0.097029</td>\n",
       "      <td>0.174782</td>\n",
       "    </tr>\n",
       "    <tr>\n",
       "      <th>3</th>\n",
       "      <td>1612970.0</td>\n",
       "      <td>1.328762</td>\n",
       "      <td>2.618416</td>\n",
       "    </tr>\n",
       "    <tr>\n",
       "      <th>4</th>\n",
       "      <td>16129700.0</td>\n",
       "      <td>10.095388</td>\n",
       "      <td>17.641346</td>\n",
       "    </tr>\n",
       "  </tbody>\n",
       "</table>\n",
       "</div>"
      ],
      "text/plain": [
       "    data_size  vectorised str  python loop\n",
       "0      1613.0        0.001848     0.001719\n",
       "1     16130.0        0.009886     0.017850\n",
       "2    161297.0        0.097029     0.174782\n",
       "3   1612970.0        1.328762     2.618416\n",
       "4  16129700.0       10.095388    17.641346"
      ]
     },
     "execution_count": 14,
     "metadata": {},
     "output_type": "execute_result"
    }
   ],
   "source": [
    "perf_df8"
   ]
  },
  {
   "cell_type": "code",
   "execution_count": 15,
   "metadata": {},
   "outputs": [
    {
     "data": {
      "image/png": "[encoded data removed]",
      "text/plain": [
       "<Figure size 648x432 with 1 Axes>"
      ]
     },
     "metadata": {
      "needs_background": "light"
     },
     "output_type": "display_data"
    }
   ],
   "source": [
    "perf_plot(perf_df8, \"Execution time - Regex search methods\")"
   ]
  },
  {
   "cell_type": "markdown",
   "metadata": {},
   "source": [
    "In this use case, vectorised string operation is faster in almost every tested data sizes. So vectorised str operations are not necessarily slower than list comp."
   ]
  },
  {
   "cell_type": "markdown",
   "metadata": {},
   "source": [
    "### Parallelisation"
   ]
  },
  {
   "cell_type": "code",
   "execution_count": 34,
   "metadata": {},
   "outputs": [],
   "source": [
    "df_big = pd.concat([df[['review2']]]*100)"
   ]
  },
  {
   "cell_type": "code",
   "execution_count": 38,
   "metadata": {},
   "outputs": [
    {
     "name": "stdout",
     "output_type": "stream",
     "text": [
      "CPU times: user 7.47 s, sys: 127 ms, total: 7.59 s\n",
      "Wall time: 7.62 s\n"
     ]
    }
   ],
   "source": [
    "%%time\n",
    "df_big['price'] = df_big['review2'].str.extract(r\"\\$(\\d{1,3}(?:\\,\\d{3})*)\\b\")"
   ]
  },
  {
   "cell_type": "code",
   "execution_count": 45,
   "metadata": {},
   "outputs": [],
   "source": [
    "# def find_str_df(review):\n",
    "#     return review.str.extract(r\"\\$(\\d{1,3}(?:\\,\\d{3})*)\\b\")"
   ]
  },
  {
   "cell_type": "code",
   "execution_count": 56,
   "metadata": {},
   "outputs": [
    {
     "name": "stdout",
     "output_type": "stream",
     "text": [
      "8\n"
     ]
    }
   ],
   "source": [
    "n_jobs = mp.cpu_count()\n",
    "print(n_jobs)\n",
    "iterables = np.array_split(df_big['review2'], 8)"
   ]
  },
  {
   "cell_type": "code",
   "execution_count": 60,
   "metadata": {},
   "outputs": [
    {
     "data": {
      "text/plain": [
       "<function utils.processing.find_str_df(review)>"
      ]
     },
     "execution_count": 60,
     "metadata": {},
     "output_type": "execute_result"
    }
   ],
   "source": [
    "find_str_df"
   ]
  },
  {
   "cell_type": "code",
   "execution_count": 59,
   "metadata": {
    "tags": []
   },
   "outputs": [
    {
     "name": "stdout",
     "output_type": "stream",
     "text": [
      "CPU times: user 4.07 s, sys: 3.66 s, total: 7.73 s\n",
      "Wall time: 18.5 s\n"
     ]
    }
   ],
   "source": [
    "%%time\n",
    "df_big['price2'] = parallel_df(\n",
    "    find_str_df,\n",
    "    iterables,\n",
    "    n_jobs,\n",
    "    2,\n",
    "    False\n",
    ")"
   ]
  },
  {
   "cell_type": "markdown",
   "metadata": {},
   "source": [
    "## References"
   ]
  },
  {
   "cell_type": "markdown",
   "metadata": {},
   "source": [
    "- [https://stackoverflow.com/questions/52673285/performance-of-pandas-apply-vs-np-vectorize-to-create-new-column-from-existing-c](https://stackoverflow.com/questions/52673285/performance-of-pandas-apply-vs-np-vectorize-to-create-new-column-from-existing-c)\n",
    "- [https://stackoverflow.com/questions/54028199/are-for-loops-in-pandas-really-bad-when-should-i-care](https://stackoverflow.com/questions/54028199/are-for-loops-in-pandas-really-bad-when-should-i-care)\n",
    "- [https://github.com/pandas-dev/pandas/issues/35864](https://github.com/pandas-dev/pandas/issues/35864)\n",
    "- [https://pandas.pydata.org/pandas-docs/stable/user_guide/enhancingperf.html](https://pandas.pydata.org/pandas-docs/stable/user_guide/enhancingperf.html)\n",
    "- [https://github.com/mm-mansour/Fast-Pandas](https://github.com/mm-mansour/Fast-Pandas)\n",
    "- [https://pandas.pydata.org/pandas-docs/version/0.15.0/text.html#text-string-methods](https://pandas.pydata.org/pandas-docs/version/0.15.0/text.html#text-string-methods)\n",
    "- [https://www.mikulskibartosz.name/how-to-reduce-memory-usage-in-pandas/](https://www.mikulskibartosz.name/how-to-reduce-memory-usage-in-pandas/)\n",
    "- [https://stackoverflow.com/questions/17579357/time-time-vs-timeit-timeit](https://stackoverflow.com/questions/17579357/time-time-vs-timeit-timeit)\n",
    "- [https://pythonspeed.com/articles/pandas-vectorization/](https://pythonspeed.com/articles/pandas-vectorization/)\n",
    "- [https://jakevdp.github.io/PythonDataScienceHandbook/03.10-working-with-strings.html](https://jakevdp.github.io/PythonDataScienceHandbook/03.10-working-with-strings.html)\n",
    "- [https://matthewrocklin.com/blog/work/2015/06/18/Categoricals](https://matthewrocklin.com/blog/work/2015/06/18/Categoricals)"
   ]
  }
 ],
 "metadata": {
  "colab": {
   "collapsed_sections": [],
   "provenance": [],
   "toc_visible": true
  },
  "kernelspec": {
   "display_name": "Python 3.8.13 ('omni')",
   "language": "python",
   "name": "python3"
  },
  "language_info": {
   "codemirror_mode": {
    "name": "ipython",
    "version": 3
   },
   "file_extension": ".py",
   "mimetype": "text/x-python",
   "name": "python",
   "nbconvert_exporter": "python",
   "pygments_lexer": "ipython3",
   "version": "3.8.13"
  },
  "vscode": {
   "interpreter": {
    "hash": "e284d39ebb0a7f371bdf4f99f33646f5f8d2b57bbaf0f3ba6345e410eb3ed6a1"
   }
  }
 },
 "nbformat": 4,
 "nbformat_minor": 4
}
